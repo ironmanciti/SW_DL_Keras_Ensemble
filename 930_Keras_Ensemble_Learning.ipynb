{
 "cells": [
  {
   "cell_type": "markdown",
   "metadata": {
    "id": "1GpUUk8SaeHu"
   },
   "source": [
    "# Keras에서 앙상블 학습을 사용한 말라리아 기생충 탐지"
   ]
  },
  {
   "cell_type": "markdown",
   "metadata": {
    "id": "oLvO8KxNa0sy"
   },
   "source": [
    "앙상블 학습은 여러 모델의 예측을 결합하여 예측 정확도를 향상시킵니다.\n",
    "\n",
    "앙상블 학습을 수행하는 방법에는 여러 가지가 있으며 https://en.wikipedia.org/wiki/Ensemble_learning 을 참조하세요.\n",
    "앙상블 학습에는 두 가지 주요 클래스가 있습니다.\n",
    "- Bagging: 독립적인 모델을 학습시킨 다음 그 것들의 예측을 평균합니다.\n",
    "- Boosting: 여러 모델을 순차적으로 학습시킨 다음 예측의 평균을 냅니다.\n",
    "\n",
    "이 노트북에서는 배깅 방식의 단순화된 형태를 사용할 것입니다.\n",
    "\n",
    "- 독립 모델들을 훈련\n",
    "- 각각의 예측을 수집\n",
    "- 투표 절차 적용\n",
    "\n",
    "여러 모델의 예측을 고려할 때 두 가지 투표 절차가 있습니다.\n",
    "- Hard Voting: 예상되는 가장 일반적인 클래스 가져오기\n",
    "- Soft Voting: 예측 확률 합계의 argmax를 취합니다. 가중치를 고려 혹은 고려 않을 수 있습니다.\n",
    "   - 가중치 고려: 각 예측 확률에 미리 설정된 가중치를 곱합니다.\n",
    "   - 가중치 비고려: 예측 확률을 곱하지 않고 바로 더합니다.\n",
    "\n",
    "이 노트북에서는 하드 투표에 집중하겠습니다.\n",
    "\n",
    "데이터세트: https://www.tensorflow.org/datasets/catalog/malaria"
   ]
  },
  {
   "cell_type": "code",
   "execution_count": 1,
   "metadata": {
    "id": "DttHtQAYabgB"
   },
   "outputs": [],
   "source": [
    "import statistics\n",
    "import numpy as np\n",
    "\n",
    "import tensorflow as tf\n",
    "from tensorflow.keras.optimizers import  Adam\n",
    "from tensorflow.keras.layers import Conv2D, Dense, MaxPooling2D, Flatten, Dropout\n",
    "from tensorflow.keras.models import Sequential\n",
    "\n",
    "import tensorflow_datasets as tfds\n",
    "\n",
    "from sklearn.metrics import f1_score, confusion_matrix, accuracy_score, precision_score, recall_score\n",
    "import matplotlib.pyplot as plt"
   ]
  },
  {
   "cell_type": "markdown",
   "metadata": {
    "id": "vUqXDuXEfetq"
   },
   "source": [
    "## 데이터를 로드합니다."
   ]
  },
  {
   "cell_type": "code",
   "execution_count": 2,
   "metadata": {
    "colab": {
     "base_uri": "https://localhost:8080/",
     "height": 814,
     "referenced_widgets": [
      "487459197c6c41a8b6ccddc83e682529",
      "630425d1d4444862b1cbe8b58c0cbaa2",
      "9b735caf1383416a8bee2b7b1dc3d32e",
      "eb53aa9eb3f9414bba7df79f74645ab4",
      "dca16a8153134c358651fd767e975d6c",
      "2f103ef05a4747158d379ddb90548712",
      "b6c8172446eb40cd9ee396c94e600211",
      "5417b480cb7449bbbd9081d16a71a777",
      "e2a42d7f0b32437083dd114fdad0b782",
      "ae5ddc7983084f1fbd0d964db0928be8",
      "b6d70d134ec54c50af885975dbb3fc50",
      "903c3c48408847688b93faa60752acbf",
      "e2b1b211f433421d8561daf5d4a4d4a5",
      "b6754e0ac64e474a8b6722e9078e3fe3",
      "2a3a160fdb904c92b57692970454b477",
      "88f690f5e74e4641a0f7a385f2e3ec21",
      "9ccc1d5117d1401091eac6a1e458c482",
      "d1c216b01c1a4864a1bbd54b6c9e1fb8",
      "87e473e59b394f11bea5105919d1ebbb",
      "c7aef0884c60416a8a92509bf4a8d471",
      "9f04c87cc97647fca14f3a137bcf3381",
      "3e3366a0d8bf4eabb612a676b9c0c58d",
      "2c2bc0edead54cf899fea8344b5ad9a6",
      "badc785b39a04fccb869767c0909814c",
      "77be8125f52d42859943e0ffaf2fb810",
      "da8a971db66f41fdb517d43f59119fbc",
      "c51a4792e5d04fb19eb1f50b1a50b0d7",
      "52cdae9806bd4bd78e9109f7f71b01a0",
      "76524281ac854670af0730825cbeacbf",
      "b04de09bda774ddf9d47605070c41afb",
      "24b35bac7279442c89646e1a623e0bab",
      "8f27b776b031451eb2028a7bd248d92a",
      "bf30e8e4c0ae4ec98860512b6860e463",
      "1c3e84daf2594b058e149908c03949cb",
      "a652015a9186405ea68c675df63f8c8a",
      "585b9b175bec4fb582e344d65539da7a",
      "39cbec5b53ef40a8948ce2892d618d1d",
      "5fac40be3aa3422484419fe6f584c3ca",
      "a074da75021949e3948500fb4a435573",
      "5162ce0c1d124f2e98e34a3acfe89702",
      "92f8affa90c044e488491f122fd0a797",
      "e7e91d454be247e69bae13d9e392eb6e",
      "5a5856be54444a528c23d9d7fd1c5c10",
      "515ec99af0604627ac423c2c8bd8b47f",
      "9694d9cf415b4689b97ecefbe995496c",
      "66f8b3b5262045f592c756da158f0531",
      "8121e4f979db41378e5755760e104b62",
      "aaf65eecdb654566a49809b7da0783d0",
      "84902ec2aed54c1ab5d669463d3f7fa4",
      "96d7044c41c84f39be202fb1653ec598",
      "2410a5aefe9c40e485f2230bfc21761e",
      "16594fdaaf994f08b17cce29e33808cd",
      "d80a666b36364446b454886b90a49128",
      "fd3649854e064061b9c7687204061577",
      "88e626bc1ee840bcb8cce7c2ada119c3"
     ]
    },
    "id": "5zEahPV_hKYU",
    "outputId": "669d200a-e34c-46e8-a948-796827d7ddd2"
   },
   "outputs": [
    {
     "name": "stdout",
     "output_type": "stream",
     "text": [
      "Downloading and preparing dataset 337.08 MiB (download: 337.08 MiB, generated: Unknown size, total: 337.08 MiB) to /root/tensorflow_datasets/malaria/1.0.0...\n"
     ]
    },
    {
     "data": {
      "application/vnd.jupyter.widget-view+json": {
       "model_id": "487459197c6c41a8b6ccddc83e682529",
       "version_major": 2,
       "version_minor": 0
      },
      "text/plain": [
       "Dl Completed...: 0 url [00:00, ? url/s]"
      ]
     },
     "metadata": {},
     "output_type": "display_data"
    },
    {
     "data": {
      "application/vnd.jupyter.widget-view+json": {
       "model_id": "903c3c48408847688b93faa60752acbf",
       "version_major": 2,
       "version_minor": 0
      },
      "text/plain": [
       "Dl Size...: 0 MiB [00:00, ? MiB/s]"
      ]
     },
     "metadata": {},
     "output_type": "display_data"
    },
    {
     "data": {
      "application/vnd.jupyter.widget-view+json": {
       "model_id": "2c2bc0edead54cf899fea8344b5ad9a6",
       "version_major": 2,
       "version_minor": 0
      },
      "text/plain": [
       "Extraction completed...: 0 file [00:00, ? file/s]"
      ]
     },
     "metadata": {},
     "output_type": "display_data"
    },
    {
     "data": {
      "application/vnd.jupyter.widget-view+json": {
       "model_id": "1c3e84daf2594b058e149908c03949cb",
       "version_major": 2,
       "version_minor": 0
      },
      "text/plain": [
       "Generating train examples...:   0%|          | 0/27558 [00:00<?, ? examples/s]"
      ]
     },
     "metadata": {},
     "output_type": "display_data"
    },
    {
     "data": {
      "application/vnd.jupyter.widget-view+json": {
       "model_id": "9694d9cf415b4689b97ecefbe995496c",
       "version_major": 2,
       "version_minor": 0
      },
      "text/plain": [
       "Shuffling /root/tensorflow_datasets/malaria/1.0.0.incompleteNW084V/malaria-train.tfrecord*...:   0%|          …"
      ]
     },
     "metadata": {},
     "output_type": "display_data"
    },
    {
     "name": "stdout",
     "output_type": "stream",
     "text": [
      "Dataset malaria downloaded and prepared to /root/tensorflow_datasets/malaria/1.0.0. Subsequent calls will reuse this data.\n",
      "tfds.core.DatasetInfo(\n",
      "    name='malaria',\n",
      "    full_name='malaria/1.0.0',\n",
      "    description=\"\"\"\n",
      "    The Malaria dataset contains a total of 27,558 cell images with equal instances\n",
      "    of parasitized and uninfected cells from the thin blood smear slide images of\n",
      "    segmented cells.\n",
      "    \"\"\",\n",
      "    homepage='https://lhncbc.nlm.nih.gov/publication/pub9932',\n",
      "    data_path=PosixGPath('/tmp/tmpw0mdy7g8tfds'),\n",
      "    file_format=tfrecord,\n",
      "    download_size=337.08 MiB,\n",
      "    dataset_size=317.62 MiB,\n",
      "    features=FeaturesDict({\n",
      "        'image': Image(shape=(None, None, 3), dtype=uint8),\n",
      "        'label': ClassLabel(shape=(), dtype=int64, num_classes=2),\n",
      "    }),\n",
      "    supervised_keys=('image', 'label'),\n",
      "    disable_shuffling=False,\n",
      "    splits={\n",
      "        'train': <SplitInfo num_examples=27558, num_shards=4>,\n",
      "    },\n",
      "    citation=\"\"\"@article{rajaraman2018pre,\n",
      "      title={Pre-trained convolutional neural networks as feature extractors toward\n",
      "      improved malaria parasite detection in thin blood smear images},\n",
      "      author={Rajaraman, Sivaramakrishnan and Antani, Sameer K and Poostchi, Mahdieh\n",
      "      and Silamut, Kamolrat and Hossain, Md A and Maude, Richard J and Jaeger,\n",
      "      Stefan and Thoma, George R},\n",
      "      journal={PeerJ},\n",
      "      volume={6},\n",
      "      pages={e4568},\n",
      "      year={2018},\n",
      "      publisher={PeerJ Inc.}\n",
      "    }\"\"\",\n",
      ")\n"
     ]
    }
   ],
   "source": [
    "# Malaria 데이터셋을 70:30 비율로 train과 test로 분리\n",
    "(train_dataset, test_dataset), dataset_info = tfds.load(\n",
    "    'malaria',\n",
    "    split=['train[:70%]', 'train[70%:]'],\n",
    "    as_supervised=True,\n",
    "    with_info=True\n",
    ")\n",
    "\n",
    "print(dataset_info)"
   ]
  },
  {
   "cell_type": "code",
   "execution_count": 3,
   "metadata": {
    "colab": {
     "base_uri": "https://localhost:8080/"
    },
    "id": "cgRUmFjk1JW5",
    "outputId": "ebe4f380-483e-4937-bf85-f499ca00c201"
   },
   "outputs": [
    {
     "name": "stdout",
     "output_type": "stream",
     "text": [
      "Train dataset label distribution: {1: 9650, 0: 9641}\n",
      "Test dataset label distribution: {1: 4129, 0: 4138}\n"
     ]
    }
   ],
   "source": [
    "# 레이블 분포를 계산하는 함수\n",
    "def get_label_distribution(dataset):\n",
    "    distribution = {}\n",
    "    for _, label in dataset:\n",
    "        label = label.numpy()\n",
    "        if label in distribution:\n",
    "            distribution[label] += 1\n",
    "        else:\n",
    "            distribution[label] = 1\n",
    "    return distribution\n",
    "\n",
    "train_distribution = get_label_distribution(train_dataset)\n",
    "test_distribution = get_label_distribution(test_dataset)\n",
    "\n",
    "print(f\"Train dataset label distribution: {train_distribution}\")\n",
    "print(f\"Test dataset label distribution: {test_distribution}\")"
   ]
  },
  {
   "cell_type": "code",
   "execution_count": 4,
   "metadata": {
    "colab": {
     "base_uri": "https://localhost:8080/"
    },
    "id": "IjIrjrSRui5G",
    "outputId": "73bc89e9-1d90-4a05-e619-9f456f693fe9"
   },
   "outputs": [
    {
     "name": "stdout",
     "output_type": "stream",
     "text": [
      "['parasitized', 'uninfected']\n"
     ]
    }
   ],
   "source": [
    "# 레이블 이름 출력\n",
    "class_names = dataset_info.features['label'].names\n",
    "print(class_names)"
   ]
  },
  {
   "cell_type": "markdown",
   "metadata": {
    "id": "rzv1kUipUsC2"
   },
   "source": [
    "Image의 size 확인"
   ]
  },
  {
   "cell_type": "code",
   "execution_count": 5,
   "metadata": {
    "colab": {
     "base_uri": "https://localhost:8080/"
    },
    "id": "6XD-_VLepTKj",
    "outputId": "84622fc4-cd42-4c47-9297-a0489c8b3269"
   },
   "outputs": [
    {
     "name": "stdout",
     "output_type": "stream",
     "text": [
      "(103, 103, 3)\n",
      "tf.Tensor(1, shape=(), dtype=int64)\n",
      "(106, 121, 3)\n",
      "tf.Tensor(1, shape=(), dtype=int64)\n",
      "(139, 142, 3)\n",
      "tf.Tensor(0, shape=(), dtype=int64)\n",
      "(130, 118, 3)\n",
      "tf.Tensor(1, shape=(), dtype=int64)\n",
      "(121, 109, 3)\n",
      "tf.Tensor(1, shape=(), dtype=int64)\n",
      "(127, 121, 3)\n",
      "tf.Tensor(0, shape=(), dtype=int64)\n",
      "(166, 151, 3)\n",
      "tf.Tensor(1, shape=(), dtype=int64)\n",
      "(145, 139, 3)\n",
      "tf.Tensor(1, shape=(), dtype=int64)\n",
      "(139, 142, 3)\n",
      "tf.Tensor(0, shape=(), dtype=int64)\n",
      "(172, 145, 3)\n",
      "tf.Tensor(0, shape=(), dtype=int64)\n"
     ]
    }
   ],
   "source": [
    "for image, label in train_dataset.take(10):\n",
    "    print(image.shape)\n",
    "    print(label)"
   ]
  },
  {
   "cell_type": "code",
   "execution_count": 6,
   "metadata": {
    "id": "nxKpmQN2uT1A"
   },
   "outputs": [],
   "source": [
    "# image를 동일한 size로 resize\n",
    "def resize_image(image, label):\n",
    "    return tf.image.resize(image, [50, 50])/255., label\n",
    "\n",
    "# 데이터셋을 셔플링 후 배치 크기로 분할하고 리사이징\n",
    "train_ds = train_dataset.shuffle(buffer_size=10000).map(resize_image).batch(64)\n",
    "test_ds = test_dataset.map(resize_image).batch(64)"
   ]
  },
  {
   "cell_type": "code",
   "execution_count": 14,
   "metadata": {
    "colab": {
     "base_uri": "https://localhost:8080/",
     "height": 125
    },
    "id": "IYq5_7YyVgAd",
    "outputId": "ec8fb0c3-cb99-4b1a-f24c-86d79ec61409"
   },
   "outputs": [
    {
     "data": {
      "image/png": "[encoded data removed]",
      "text/plain": [
       "<Figure size 1000x500 with 10 Axes>"
      ]
     },
     "metadata": {},
     "output_type": "display_data"
    }
   ],
   "source": [
    "images, labels = next(iter(train_ds))\n",
    "\n",
    "plt.figure(figsize=(10, 5))\n",
    "for i in range(10):\n",
    "    plt.subplot(1, 10, i+1)\n",
    "    plt.imshow((images[i].numpy()*255).astype('uint8'))\n",
    "    plt.title(labels[i].numpy())\n",
    "    plt.axis('off')\n",
    "plt.show()"
   ]
  },
  {
   "cell_type": "markdown",
   "metadata": {
    "id": "AfrAcwI1na50"
   },
   "source": [
    "## deep CNN 모델 생성\n"
   ]
  },
  {
   "cell_type": "code",
   "execution_count": 15,
   "metadata": {
    "colab": {
     "base_uri": "https://localhost:8080/"
    },
    "id": "_CSvvX3Vla8k",
    "outputId": "5484ba6d-5166-45b2-b526-be1c2eb730e7"
   },
   "outputs": [
    {
     "name": "stdout",
     "output_type": "stream",
     "text": [
      "Model: \"sequential\"\n",
      "_________________________________________________________________\n",
      " Layer (type)                Output Shape              Param #   \n",
      "=================================================================\n",
      " conv2d (Conv2D)             (None, 48, 48, 4)         112       \n",
      "                                                                 \n",
      " max_pooling2d (MaxPooling2D  (None, 24, 24, 4)        0         \n",
      " )                                                               \n",
      "                                                                 \n",
      " conv2d_1 (Conv2D)           (None, 22, 22, 8)         296       \n",
      "                                                                 \n",
      " max_pooling2d_1 (MaxPooling  (None, 11, 11, 8)        0         \n",
      " 2D)                                                             \n",
      "                                                                 \n",
      " conv2d_2 (Conv2D)           (None, 9, 9, 16)          1168      \n",
      "                                                                 \n",
      " max_pooling2d_2 (MaxPooling  (None, 4, 4, 16)         0         \n",
      " 2D)                                                             \n",
      "                                                                 \n",
      " flatten (Flatten)           (None, 256)               0         \n",
      "                                                                 \n",
      " dense (Dense)               (None, 16)                4112      \n",
      "                                                                 \n",
      " dropout (Dropout)           (None, 16)                0         \n",
      "                                                                 \n",
      " dense_1 (Dense)             (None, 1)                 17        \n",
      "                                                                 \n",
      "=================================================================\n",
      "Total params: 5,705\n",
      "Trainable params: 5,705\n",
      "Non-trainable params: 0\n",
      "_________________________________________________________________\n"
     ]
    }
   ],
   "source": [
    "def create_model(m):\n",
    "    model = Sequential()\n",
    "    model.add(Conv2D(4*m, (3, 3), activation='relu', input_shape=(50, 50, 3)))\n",
    "    model.add(MaxPooling2D(pool_size=(2, 2)))\n",
    "    model.add(Conv2D(8*m, (3, 3), activation='relu'))\n",
    "    model.add(MaxPooling2D(pool_size=(2, 2)))\n",
    "    model.add(Conv2D(16*m, (3, 3), activation='relu'))\n",
    "    model.add(MaxPooling2D(pool_size=(2, 2)))\n",
    "    model.add(Flatten())\n",
    "    model.add(Dense(16*m, activation='relu'))\n",
    "    model.add(Dropout(0.5))\n",
    "    model.add(Dense(1, activation='sigmoid'))\n",
    "    model.compile(optimizer=Adam(learning_rate=0.001), loss='binary_crossentropy', metrics=['accuracy'])\n",
    "    return model\n",
    "\n",
    "model = create_model(1)\n",
    "model.summary()"
   ]
  },
  {
   "cell_type": "markdown",
   "metadata": {
    "id": "nt51Jyn5rfxX"
   },
   "source": [
    "## Train and test the CNN\n",
    "\n",
    "주요 분류 메트릭을 제공하는 classification_report 함수를 사용하여 예측 정확도를 측정합니다. 또한 공식을 알 수 있도록 이러한 메트릭을 개별적으로 표시합니다.\n",
    "\n",
    "- 정밀도: 음성인 샘플을 양성으로 분류하지 않는 분류기의 능력.\n",
    "- Recall: 모든 양성 샘플을 찾는 분류기의 능력\n",
    "- f1: 정밀도와 재현율의 조화 평균"
   ]
  },
  {
   "cell_type": "markdown",
   "metadata": {
    "id": "YEVyxEjrb4oM"
   },
   "source": [
    "- epoch 수를 20으로 하면 더 좋은 성능이 나오지만 실행 시간을 고려하여 10 epoch 만 수행"
   ]
  },
  {
   "cell_type": "code",
   "execution_count": 16,
   "metadata": {
    "colab": {
     "base_uri": "https://localhost:8080/"
    },
    "id": "qtznFL-AszYa",
    "outputId": "dde5423e-0f82-4d5e-c1cc-42412479a6e8"
   },
   "outputs": [
    {
     "name": "stdout",
     "output_type": "stream",
     "text": [
      "Epoch 1/10\n",
      "302/302 [==============================] - 28s 43ms/step - loss: 0.9981 - accuracy: 0.4949 - val_loss: 0.6931 - val_accuracy: 0.5005\n",
      "Epoch 2/10\n",
      "302/302 [==============================] - 17s 38ms/step - loss: 0.6932 - accuracy: 0.5003 - val_loss: 0.6931 - val_accuracy: 0.5003\n",
      "Epoch 3/10\n",
      "302/302 [==============================] - 15s 37ms/step - loss: 0.6932 - accuracy: 0.4980 - val_loss: 0.6930 - val_accuracy: 0.5053\n",
      "Epoch 4/10\n",
      "302/302 [==============================] - 17s 41ms/step - loss: 0.6929 - accuracy: 0.5034 - val_loss: 0.6931 - val_accuracy: 0.5043\n",
      "Epoch 5/10\n",
      "302/302 [==============================] - 16s 38ms/step - loss: 0.6925 - accuracy: 0.5099 - val_loss: 0.6933 - val_accuracy: 0.5005\n",
      "Epoch 6/10\n",
      "302/302 [==============================] - 17s 43ms/step - loss: 0.6913 - accuracy: 0.5228 - val_loss: 0.6841 - val_accuracy: 0.6047\n",
      "Epoch 7/10\n",
      "302/302 [==============================] - 18s 42ms/step - loss: 0.6881 - accuracy: 0.5356 - val_loss: 0.6792 - val_accuracy: 0.5482\n",
      "Epoch 8/10\n",
      "302/302 [==============================] - 16s 39ms/step - loss: 0.6881 - accuracy: 0.5284 - val_loss: 0.6939 - val_accuracy: 0.4998\n",
      "Epoch 9/10\n",
      "302/302 [==============================] - 17s 41ms/step - loss: 0.6935 - accuracy: 0.5002 - val_loss: 0.6931 - val_accuracy: 0.5002\n",
      "Epoch 10/10\n",
      "302/302 [==============================] - 16s 38ms/step - loss: 0.6931 - accuracy: 0.5009 - val_loss: 0.6925 - val_accuracy: 0.5105\n"
     ]
    }
   ],
   "source": [
    "history = model.fit(train_ds, epochs=10, verbose=1, validation_data=test_ds)"
   ]
  },
  {
   "cell_type": "code",
   "execution_count": 17,
   "metadata": {
    "colab": {
     "base_uri": "https://localhost:8080/",
     "height": 387
    },
    "id": "_5yJ4pfPurh_",
    "outputId": "3d12c7d7-b8d5-4910-a127-2ea1a25f69e3"
   },
   "outputs": [
    {
     "data": {
      "text/plain": [
       "<matplotlib.legend.Legend at 0x7e05546675e0>"
      ]
     },
     "execution_count": 17,
     "metadata": {},
     "output_type": "execute_result"
    },
    {
     "data": {
      "image/png": "[encoded data removed]",
      "text/plain": [
       "<Figure size 1200x400 with 2 Axes>"
      ]
     },
     "metadata": {},
     "output_type": "display_data"
    }
   ],
   "source": [
    "plt.figure(figsize=(12, 4))\n",
    "plt.subplot(1, 2, 1)\n",
    "plt.plot(history.history['loss'], label='Train Loss')\n",
    "plt.plot(history.history['val_loss'], label='Validation Loss')\n",
    "plt.legend()\n",
    "plt.subplot(1, 2, 2)\n",
    "plt.plot(history.history['accuracy'], label='Train Accuracy')\n",
    "plt.plot(history.history['val_accuracy'], label='Validation Accuracy')\n",
    "plt.legend()"
   ]
  },
  {
   "cell_type": "code",
   "execution_count": 18,
   "metadata": {
    "id": "hqgSOJd9wrbG"
   },
   "outputs": [],
   "source": [
    "# 이미지와 레이블을 NumPy 배열로 추출\n",
    "images_list = [image.numpy() for image, _ in test_ds.unbatch()]\n",
    "labels_list = [label.numpy() for _, label in test_ds.unbatch()]\n",
    "\n",
    "test_images_array = np.array(images_list)\n",
    "test_labels_array = np.array(labels_list)"
   ]
  },
  {
   "cell_type": "code",
   "execution_count": 19,
   "metadata": {
    "colab": {
     "base_uri": "https://localhost:8080/"
    },
    "id": "E9Xy9C7r5KJ4",
    "outputId": "998a7c71-6406-4c5f-f5bd-2ac5dd8cacdf"
   },
   "outputs": [
    {
     "data": {
      "text/plain": [
       "((8267, 50, 50, 3), (8267,))"
      ]
     },
     "execution_count": 19,
     "metadata": {},
     "output_type": "execute_result"
    }
   ],
   "source": [
    "test_images_array.shape, test_labels_array.shape"
   ]
  },
  {
   "cell_type": "code",
   "execution_count": 20,
   "metadata": {
    "id": "SbbAvI3V4d64"
   },
   "outputs": [],
   "source": [
    "y_pred = model.predict(test_images_array, verbose=0) > 0.5"
   ]
  },
  {
   "cell_type": "code",
   "execution_count": 21,
   "metadata": {
    "colab": {
     "base_uri": "https://localhost:8080/"
    },
    "id": "geMxDNRC4kev",
    "outputId": "cd41155d-2558-437e-c448-9e91e004c117"
   },
   "outputs": [
    {
     "name": "stdout",
     "output_type": "stream",
     "text": [
      "accuracy = 0.51\n",
      "precision = 0.51\n",
      "recall = 0.99\n",
      "f1 score = 0.67\n"
     ]
    }
   ],
   "source": [
    "# accuracy = (true positives + true negatives) / (positives + negatives)\n",
    "print('accuracy = {:.2f}'.format(accuracy_score(test_labels_array, y_pred)))\n",
    "# precision = true positives / (true positives + false positives)\n",
    "print('precision = {:.2f}'.format(precision_score(test_labels_array, y_pred)))\n",
    "# recall = true positives / (true positives + false negatives)\n",
    "print('recall = {:.2f}'.format(recall_score(test_labels_array, y_pred)))\n",
    "# f1 = 2 * (precision * recall) / (precision + recall)\n",
    "print('f1 score = {:.2f}'.format(f1_score(test_labels_array, y_pred)))"
   ]
  },
  {
   "cell_type": "markdown",
   "metadata": {
    "id": "bEcAgj-r7Lql"
   },
   "source": [
    "## Create the CNN models ensemble\n",
    "하나의 CNN 모델로 좋은 정확도를 달성할 수 있다는 것을 알았으므로 CNN 모델의 앙상블을 시도해 봅니다."
   ]
  },
  {
   "cell_type": "code",
   "execution_count": 22,
   "metadata": {
    "colab": {
     "base_uri": "https://localhost:8080/"
    },
    "id": "E86aHgba7FGQ",
    "outputId": "4cdc7967-098c-4e72-e0d4-02e19a764b58"
   },
   "outputs": [
    {
     "data": {
      "text/plain": [
       "{1: <keras.engine.sequential.Sequential at 0x7e0564c2a3e0>,\n",
       " 2: <keras.engine.sequential.Sequential at 0x7e0564c2bd60>,\n",
       " 3: <keras.engine.sequential.Sequential at 0x7e0564c51f60>}"
      ]
     },
     "execution_count": 22,
     "metadata": {},
     "output_type": "execute_result"
    }
   ],
   "source": [
    "models = {}\n",
    "for i in range(1, 4):\n",
    "    newmodel = create_model(i)\n",
    "    models[i] = newmodel\n",
    "\n",
    "models"
   ]
  },
  {
   "cell_type": "markdown",
   "metadata": {
    "id": "7jHWOQnY8zOj"
   },
   "source": [
    "## 앙상블할 모델들을 훈련하 예측을 수행합니다.\n",
    "동일한 데이터 세트를 사용하여 각 모델을 개별적으로 훈련합니다.\n",
    "\n",
    "완료되면 예측을 생성하고 배열 `predictions_hard`에 추가합니다."
   ]
  },
  {
   "cell_type": "code",
   "execution_count": 23,
   "metadata": {
    "colab": {
     "base_uri": "https://localhost:8080/"
    },
    "id": "8uo7pxTP8Zui",
    "outputId": "eda8a42c-f782-44f5-c15d-5f0f774b11f1"
   },
   "outputs": [
    {
     "name": "stdout",
     "output_type": "stream",
     "text": [
      "Epoch 1/10\n",
      "302/302 [==============================] - 19s 43ms/step - loss: 1.6093 - accuracy: 0.5015 - val_loss: 0.6933 - val_accuracy: 0.4993\n",
      "Epoch 2/10\n",
      "302/302 [==============================] - 22s 55ms/step - loss: 0.6932 - accuracy: 0.5003 - val_loss: 0.6933 - val_accuracy: 0.4993\n",
      "Epoch 3/10\n",
      "302/302 [==============================] - 16s 36ms/step - loss: 0.6931 - accuracy: 0.4998 - val_loss: 0.6933 - val_accuracy: 0.4995\n",
      "Epoch 4/10\n",
      "302/302 [==============================] - 17s 39ms/step - loss: 0.6939 - accuracy: 0.5002 - val_loss: 0.6932 - val_accuracy: 0.4995\n",
      "Epoch 5/10\n",
      "302/302 [==============================] - 16s 40ms/step - loss: 0.6931 - accuracy: 0.4945 - val_loss: 0.6931 - val_accuracy: 0.4995\n",
      "Epoch 6/10\n",
      "302/302 [==============================] - 17s 39ms/step - loss: 0.6933 - accuracy: 0.4918 - val_loss: 0.6931 - val_accuracy: 0.4995\n",
      "Epoch 7/10\n",
      "302/302 [==============================] - 16s 39ms/step - loss: 0.6932 - accuracy: 0.4954 - val_loss: 0.6932 - val_accuracy: 0.4995\n",
      "Epoch 8/10\n",
      "302/302 [==============================] - 16s 38ms/step - loss: 0.6932 - accuracy: 0.4915 - val_loss: 0.6931 - val_accuracy: 0.5005\n",
      "Epoch 9/10\n",
      "302/302 [==============================] - 22s 55ms/step - loss: 0.6931 - accuracy: 0.4981 - val_loss: 0.6931 - val_accuracy: 0.5005\n",
      "Epoch 10/10\n",
      "302/302 [==============================] - 17s 43ms/step - loss: 0.6931 - accuracy: 0.4980 - val_loss: 0.6933 - val_accuracy: 0.5005\n",
      "Epoch 1/10\n",
      "302/302 [==============================] - 20s 40ms/step - loss: 0.7821 - accuracy: 0.6012 - val_loss: 0.5169 - val_accuracy: 0.7397\n",
      "Epoch 2/10\n",
      "302/302 [==============================] - 16s 40ms/step - loss: 0.5240 - accuracy: 0.7245 - val_loss: 0.3935 - val_accuracy: 0.8263\n",
      "Epoch 3/10\n",
      "302/302 [==============================] - 17s 39ms/step - loss: 0.3942 - accuracy: 0.8119 - val_loss: 0.2677 - val_accuracy: 0.8881\n",
      "Epoch 4/10\n",
      "302/302 [==============================] - 17s 43ms/step - loss: 0.2846 - accuracy: 0.8716 - val_loss: 0.2192 - val_accuracy: 0.9124\n",
      "Epoch 5/10\n",
      "302/302 [==============================] - 16s 37ms/step - loss: 0.2303 - accuracy: 0.9067 - val_loss: 0.2069 - val_accuracy: 0.9254\n",
      "Epoch 6/10\n",
      "302/302 [==============================] - 17s 38ms/step - loss: 0.2015 - accuracy: 0.9236 - val_loss: 0.1914 - val_accuracy: 0.9355\n",
      "Epoch 7/10\n",
      "302/302 [==============================] - 16s 39ms/step - loss: 0.1815 - accuracy: 0.9347 - val_loss: 0.1789 - val_accuracy: 0.9384\n",
      "Epoch 8/10\n",
      "302/302 [==============================] - 16s 38ms/step - loss: 0.1734 - accuracy: 0.9378 - val_loss: 0.1717 - val_accuracy: 0.9423\n",
      "Epoch 9/10\n",
      "302/302 [==============================] - 17s 38ms/step - loss: 0.1691 - accuracy: 0.9418 - val_loss: 0.1678 - val_accuracy: 0.9413\n",
      "Epoch 10/10\n",
      "302/302 [==============================] - 16s 38ms/step - loss: 0.1572 - accuracy: 0.9457 - val_loss: 0.1818 - val_accuracy: 0.9370\n",
      "Epoch 1/10\n",
      "302/302 [==============================] - 20s 40ms/step - loss: 0.8711 - accuracy: 0.5693 - val_loss: 0.6474 - val_accuracy: 0.6599\n",
      "Epoch 2/10\n",
      "302/302 [==============================] - 16s 38ms/step - loss: 0.6335 - accuracy: 0.6280 - val_loss: 0.5343 - val_accuracy: 0.7465\n",
      "Epoch 3/10\n",
      "302/302 [==============================] - 17s 38ms/step - loss: 0.4238 - accuracy: 0.7946 - val_loss: 0.2484 - val_accuracy: 0.9013\n",
      "Epoch 4/10\n",
      "302/302 [==============================] - 16s 40ms/step - loss: 0.2518 - accuracy: 0.9102 - val_loss: 0.1929 - val_accuracy: 0.9307\n",
      "Epoch 5/10\n",
      "302/302 [==============================] - 17s 40ms/step - loss: 0.1958 - accuracy: 0.9355 - val_loss: 0.1687 - val_accuracy: 0.9434\n",
      "Epoch 6/10\n",
      "302/302 [==============================] - 17s 43ms/step - loss: 0.1786 - accuracy: 0.9442 - val_loss: 0.1722 - val_accuracy: 0.9407\n",
      "Epoch 7/10\n",
      "302/302 [==============================] - 16s 40ms/step - loss: 0.1604 - accuracy: 0.9482 - val_loss: 0.1562 - val_accuracy: 0.9470\n",
      "Epoch 8/10\n",
      "302/302 [==============================] - 16s 40ms/step - loss: 0.1515 - accuracy: 0.9515 - val_loss: 0.1724 - val_accuracy: 0.9439\n",
      "Epoch 9/10\n",
      "302/302 [==============================] - 18s 40ms/step - loss: 0.1347 - accuracy: 0.9551 - val_loss: 0.1618 - val_accuracy: 0.9436\n",
      "Epoch 10/10\n",
      "302/302 [==============================] - 18s 44ms/step - loss: 0.1306 - accuracy: 0.9561 - val_loss: 0.1646 - val_accuracy: 0.9483\n"
     ]
    }
   ],
   "source": [
    "for k in models:\n",
    "    models[k].fit(train_ds, epochs=10, verbose=1, validation_data=test_ds)"
   ]
  },
  {
   "cell_type": "code",
   "execution_count": 24,
   "metadata": {
    "colab": {
     "base_uri": "https://localhost:8080/"
    },
    "id": "6qHZ-bbW-9FM",
    "outputId": "c2dd35ba-d186-42a2-f633-a446d60b2ef3"
   },
   "outputs": [
    {
     "name": "stdout",
     "output_type": "stream",
     "text": [
      "accuracy = 0.50\n",
      "accuracy = 0.94\n",
      "accuracy = 0.95\n"
     ]
    }
   ],
   "source": [
    "predictions_hard = []\n",
    "for k in models:\n",
    "    y_pred = models[k].predict(test_images_array, verbose=0) > 0.5\n",
    "    print('accuracy = {:.2f}'.format(accuracy_score(test_labels_array, y_pred)))\n",
    "    predictions_hard.append(y_pred)"
   ]
  },
  {
   "cell_type": "markdown",
   "metadata": {
    "id": "ZUhr8vup_G1N"
   },
   "source": [
    "## 앙상블에 hard voting 적용\n",
    "Hard Voting은 다수결에 따라 클래스를 결정하는 것입니다. 다른 것보다 더 자주 예측된 클래스를 얻기 위해 `mode()` 통계 함수를 사용할 것입니다.  \n",
    "\n",
    "`mode()` 함수는 최빈값을 의미합니다."
   ]
  },
  {
   "cell_type": "code",
   "execution_count": 25,
   "metadata": {
    "colab": {
     "base_uri": "https://localhost:8080/"
    },
    "id": "wqVJswseByhY",
    "outputId": "6bc07893-3e20-4a9f-ad70-59f6c7b44a92"
   },
   "outputs": [
    {
     "data": {
      "text/plain": [
       "(8267, 1)"
      ]
     },
     "execution_count": 25,
     "metadata": {},
     "output_type": "execute_result"
    }
   ],
   "source": [
    "predictions_hard[0].shape"
   ]
  },
  {
   "cell_type": "code",
   "execution_count": 26,
   "metadata": {
    "id": "78EHJsdw--UD"
   },
   "outputs": [],
   "source": [
    "voting_hard = []\n",
    "for i in range(len(test_labels_array)):\n",
    "    # 3개 모델의 i번째 예측 결과 중 최빈값을 찾아 voting_hard에 추가\n",
    "    voting_hard += [statistics.mode([predictions_hard[0][i][0], predictions_hard[1][i][0], predictions_hard[2][i][0]])]"
   ]
  },
  {
   "cell_type": "code",
   "execution_count": 27,
   "metadata": {
    "colab": {
     "base_uri": "https://localhost:8080/"
    },
    "id": "Uv8ljivVAgCL",
    "outputId": "410f6ee4-b942-4196-eac1-b6e13d614e96"
   },
   "outputs": [
    {
     "name": "stdout",
     "output_type": "stream",
     "text": [
      "              precision    recall  f1-score   support\n",
      "\n",
      "           0       0.93      0.95      0.94      4138\n",
      "           1       0.95      0.93      0.94      4129\n",
      "\n",
      "    accuracy                           0.94      8267\n",
      "   macro avg       0.94      0.94      0.94      8267\n",
      "weighted avg       0.94      0.94      0.94      8267\n",
      "\n"
     ]
    }
   ],
   "source": [
    "from sklearn.metrics import classification_report\n",
    "print(classification_report(test_labels_array, voting_hard))"
   ]
  },
  {
   "cell_type": "code",
   "execution_count": 27,
   "metadata": {
    "id": "Wc-iI2fJAmYw"
   },
   "outputs": [],
   "source": []
  }
 ],
 "metadata": {
  "accelerator": "GPU",
  "colab": {
   "gpuType": "T4",
   "provenance": []
  },
  "kernelspec": {
   "display_name": "Python 3 (ipykernel)",
   "language": "python",
   "name": "python3"
  },
  "language_info": {
   "codemirror_mode": {
    "name": "ipython",
    "version": 3
   },
   "file_extension": ".py",
   "mimetype": "text/x-python",
   "name": "python",
   "nbconvert_exporter": "python",
   "pygments_lexer": "ipython3",
   "version": "3.9.7"
  },
  "widgets": {
   "application/vnd.jupyter.widget-state+json": {
    "16594fdaaf994f08b17cce29e33808cd": {
     "model_module": "@jupyter-widgets/base",
     "model_module_version": "1.2.0",
     "model_name": "LayoutModel",
     "state": {
      "_model_module": "@jupyter-widgets/base",
      "_model_module_version": "1.2.0",
      "_model_name": "LayoutModel",
      "_view_count": null,
      "_view_module": "@jupyter-widgets/base",
      "_view_module_version": "1.2.0",
      "_view_name": "LayoutView",
      "align_content": null,
      "align_items": null,
      "align_self": null,
      "border": null,
      "bottom": null,
      "display": null,
      "flex": null,
      "flex_flow": null,
      "grid_area": null,
      "grid_auto_columns": null,
      "grid_auto_flow": null,
      "grid_auto_rows": null,
      "grid_column": null,
      "grid_gap": null,
      "grid_row": null,
      "grid_template_areas": null,
      "grid_template_columns": null,
      "grid_template_rows": null,
      "height": null,
      "justify_content": null,
      "justify_items": null,
      "left": null,
      "margin": null,
      "max_height": null,
      "max_width": null,
      "min_height": null,
      "min_width": null,
      "object_fit": null,
      "object_position": null,
      "order": null,
      "overflow": null,
      "overflow_x": null,
      "overflow_y": null,
      "padding": null,
      "right": null,
      "top": null,
      "visibility": null,
      "width": null
     }
    },
    "1c3e84daf2594b058e149908c03949cb": {
     "model_module": "@jupyter-widgets/controls",
     "model_module_version": "1.5.0",
     "model_name": "HBoxModel",
     "state": {
      "_dom_classes": [],
      "_model_module": "@jupyter-widgets/controls",
      "_model_module_version": "1.5.0",
      "_model_name": "HBoxModel",
      "_view_count": null,
      "_view_module": "@jupyter-widgets/controls",
      "_view_module_version": "1.5.0",
      "_view_name": "HBoxView",
      "box_style": "",
      "children": [
       "IPY_MODEL_a652015a9186405ea68c675df63f8c8a",
       "IPY_MODEL_585b9b175bec4fb582e344d65539da7a",
       "IPY_MODEL_39cbec5b53ef40a8948ce2892d618d1d"
      ],
      "layout": "IPY_MODEL_5fac40be3aa3422484419fe6f584c3ca"
     }
    },
    "2410a5aefe9c40e485f2230bfc21761e": {
     "model_module": "@jupyter-widgets/controls",
     "model_module_version": "1.5.0",
     "model_name": "DescriptionStyleModel",
     "state": {
      "_model_module": "@jupyter-widgets/controls",
      "_model_module_version": "1.5.0",
      "_model_name": "DescriptionStyleModel",
      "_view_count": null,
      "_view_module": "@jupyter-widgets/base",
      "_view_module_version": "1.2.0",
      "_view_name": "StyleView",
      "description_width": ""
     }
    },
    "24b35bac7279442c89646e1a623e0bab": {
     "model_module": "@jupyter-widgets/controls",
     "model_module_version": "1.5.0",
     "model_name": "ProgressStyleModel",
     "state": {
      "_model_module": "@jupyter-widgets/controls",
      "_model_module_version": "1.5.0",
      "_model_name": "ProgressStyleModel",
      "_view_count": null,
      "_view_module": "@jupyter-widgets/base",
      "_view_module_version": "1.2.0",
      "_view_name": "StyleView",
      "bar_color": null,
      "description_width": ""
     }
    },
    "2a3a160fdb904c92b57692970454b477": {
     "model_module": "@jupyter-widgets/controls",
     "model_module_version": "1.5.0",
     "model_name": "HTMLModel",
     "state": {
      "_dom_classes": [],
      "_model_module": "@jupyter-widgets/controls",
      "_model_module_version": "1.5.0",
      "_model_name": "HTMLModel",
      "_view_count": null,
      "_view_module": "@jupyter-widgets/controls",
      "_view_module_version": "1.5.0",
      "_view_name": "HTMLView",
      "description": "",
      "description_tooltip": null,
      "layout": "IPY_MODEL_9f04c87cc97647fca14f3a137bcf3381",
      "placeholder": "​",
      "style": "IPY_MODEL_3e3366a0d8bf4eabb612a676b9c0c58d",
      "value": " 337/337 [01:26&lt;00:00, 64.63 MiB/s]"
     }
    },
    "2c2bc0edead54cf899fea8344b5ad9a6": {
     "model_module": "@jupyter-widgets/controls",
     "model_module_version": "1.5.0",
     "model_name": "HBoxModel",
     "state": {
      "_dom_classes": [],
      "_model_module": "@jupyter-widgets/controls",
      "_model_module_version": "1.5.0",
      "_model_name": "HBoxModel",
      "_view_count": null,
      "_view_module": "@jupyter-widgets/controls",
      "_view_module_version": "1.5.0",
      "_view_name": "HBoxView",
      "box_style": "",
      "children": [
       "IPY_MODEL_badc785b39a04fccb869767c0909814c",
       "IPY_MODEL_77be8125f52d42859943e0ffaf2fb810",
       "IPY_MODEL_da8a971db66f41fdb517d43f59119fbc"
      ],
      "layout": "IPY_MODEL_c51a4792e5d04fb19eb1f50b1a50b0d7"
     }
    },
    "2f103ef05a4747158d379ddb90548712": {
     "model_module": "@jupyter-widgets/base",
     "model_module_version": "1.2.0",
     "model_name": "LayoutModel",
     "state": {
      "_model_module": "@jupyter-widgets/base",
      "_model_module_version": "1.2.0",
      "_model_name": "LayoutModel",
      "_view_count": null,
      "_view_module": "@jupyter-widgets/base",
      "_view_module_version": "1.2.0",
      "_view_name": "LayoutView",
      "align_content": null,
      "align_items": null,
      "align_self": null,
      "border": null,
      "bottom": null,
      "display": null,
      "flex": null,
      "flex_flow": null,
      "grid_area": null,
      "grid_auto_columns": null,
      "grid_auto_flow": null,
      "grid_auto_rows": null,
      "grid_column": null,
      "grid_gap": null,
      "grid_row": null,
      "grid_template_areas": null,
      "grid_template_columns": null,
      "grid_template_rows": null,
      "height": null,
      "justify_content": null,
      "justify_items": null,
      "left": null,
      "margin": null,
      "max_height": null,
      "max_width": null,
      "min_height": null,
      "min_width": null,
      "object_fit": null,
      "object_position": null,
      "order": null,
      "overflow": null,
      "overflow_x": null,
      "overflow_y": null,
      "padding": null,
      "right": null,
      "top": null,
      "visibility": null,
      "width": null
     }
    },
    "39cbec5b53ef40a8948ce2892d618d1d": {
     "model_module": "@jupyter-widgets/controls",
     "model_module_version": "1.5.0",
     "model_name": "HTMLModel",
     "state": {
      "_dom_classes": [],
      "_model_module": "@jupyter-widgets/controls",
      "_model_module_version": "1.5.0",
      "_model_name": "HTMLModel",
      "_view_count": null,
      "_view_module": "@jupyter-widgets/controls",
      "_view_module_version": "1.5.0",
      "_view_name": "HTMLView",
      "description": "",
      "description_tooltip": null,
      "layout": "IPY_MODEL_5a5856be54444a528c23d9d7fd1c5c10",
      "placeholder": "​",
      "style": "IPY_MODEL_515ec99af0604627ac423c2c8bd8b47f",
      "value": " 27171/27558 [00:06&lt;00:00, 5729.48 examples/s]"
     }
    },
    "3e3366a0d8bf4eabb612a676b9c0c58d": {
     "model_module": "@jupyter-widgets/controls",
     "model_module_version": "1.5.0",
     "model_name": "DescriptionStyleModel",
     "state": {
      "_model_module": "@jupyter-widgets/controls",
      "_model_module_version": "1.5.0",
      "_model_name": "DescriptionStyleModel",
      "_view_count": null,
      "_view_module": "@jupyter-widgets/base",
      "_view_module_version": "1.2.0",
      "_view_name": "StyleView",
      "description_width": ""
     }
    },
    "487459197c6c41a8b6ccddc83e682529": {
     "model_module": "@jupyter-widgets/controls",
     "model_module_version": "1.5.0",
     "model_name": "HBoxModel",
     "state": {
      "_dom_classes": [],
      "_model_module": "@jupyter-widgets/controls",
      "_model_module_version": "1.5.0",
      "_model_name": "HBoxModel",
      "_view_count": null,
      "_view_module": "@jupyter-widgets/controls",
      "_view_module_version": "1.5.0",
      "_view_name": "HBoxView",
      "box_style": "",
      "children": [
       "IPY_MODEL_630425d1d4444862b1cbe8b58c0cbaa2",
       "IPY_MODEL_9b735caf1383416a8bee2b7b1dc3d32e",
       "IPY_MODEL_eb53aa9eb3f9414bba7df79f74645ab4"
      ],
      "layout": "IPY_MODEL_dca16a8153134c358651fd767e975d6c"
     }
    },
    "515ec99af0604627ac423c2c8bd8b47f": {
     "model_module": "@jupyter-widgets/controls",
     "model_module_version": "1.5.0",
     "model_name": "DescriptionStyleModel",
     "state": {
      "_model_module": "@jupyter-widgets/controls",
      "_model_module_version": "1.5.0",
      "_model_name": "DescriptionStyleModel",
      "_view_count": null,
      "_view_module": "@jupyter-widgets/base",
      "_view_module_version": "1.2.0",
      "_view_name": "StyleView",
      "description_width": ""
     }
    },
    "5162ce0c1d124f2e98e34a3acfe89702": {
     "model_module": "@jupyter-widgets/controls",
     "model_module_version": "1.5.0",
     "model_name": "DescriptionStyleModel",
     "state": {
      "_model_module": "@jupyter-widgets/controls",
      "_model_module_version": "1.5.0",
      "_model_name": "DescriptionStyleModel",
      "_view_count": null,
      "_view_module": "@jupyter-widgets/base",
      "_view_module_version": "1.2.0",
      "_view_name": "StyleView",
      "description_width": ""
     }
    },
    "52cdae9806bd4bd78e9109f7f71b01a0": {
     "model_module": "@jupyter-widgets/base",
     "model_module_version": "1.2.0",
     "model_name": "LayoutModel",
     "state": {
      "_model_module": "@jupyter-widgets/base",
      "_model_module_version": "1.2.0",
      "_model_name": "LayoutModel",
      "_view_count": null,
      "_view_module": "@jupyter-widgets/base",
      "_view_module_version": "1.2.0",
      "_view_name": "LayoutView",
      "align_content": null,
      "align_items": null,
      "align_self": null,
      "border": null,
      "bottom": null,
      "display": null,
      "flex": null,
      "flex_flow": null,
      "grid_area": null,
      "grid_auto_columns": null,
      "grid_auto_flow": null,
      "grid_auto_rows": null,
      "grid_column": null,
      "grid_gap": null,
      "grid_row": null,
      "grid_template_areas": null,
      "grid_template_columns": null,
      "grid_template_rows": null,
      "height": null,
      "justify_content": null,
      "justify_items": null,
      "left": null,
      "margin": null,
      "max_height": null,
      "max_width": null,
      "min_height": null,
      "min_width": null,
      "object_fit": null,
      "object_position": null,
      "order": null,
      "overflow": null,
      "overflow_x": null,
      "overflow_y": null,
      "padding": null,
      "right": null,
      "top": null,
      "visibility": null,
      "width": null
     }
    },
    "5417b480cb7449bbbd9081d16a71a777": {
     "model_module": "@jupyter-widgets/base",
     "model_module_version": "1.2.0",
     "model_name": "LayoutModel",
     "state": {
      "_model_module": "@jupyter-widgets/base",
      "_model_module_version": "1.2.0",
      "_model_name": "LayoutModel",
      "_view_count": null,
      "_view_module": "@jupyter-widgets/base",
      "_view_module_version": "1.2.0",
      "_view_name": "LayoutView",
      "align_content": null,
      "align_items": null,
      "align_self": null,
      "border": null,
      "bottom": null,
      "display": null,
      "flex": null,
      "flex_flow": null,
      "grid_area": null,
      "grid_auto_columns": null,
      "grid_auto_flow": null,
      "grid_auto_rows": null,
      "grid_column": null,
      "grid_gap": null,
      "grid_row": null,
      "grid_template_areas": null,
      "grid_template_columns": null,
      "grid_template_rows": null,
      "height": null,
      "justify_content": null,
      "justify_items": null,
      "left": null,
      "margin": null,
      "max_height": null,
      "max_width": null,
      "min_height": null,
      "min_width": null,
      "object_fit": null,
      "object_position": null,
      "order": null,
      "overflow": null,
      "overflow_x": null,
      "overflow_y": null,
      "padding": null,
      "right": null,
      "top": null,
      "visibility": null,
      "width": "20px"
     }
    },
    "585b9b175bec4fb582e344d65539da7a": {
     "model_module": "@jupyter-widgets/controls",
     "model_module_version": "1.5.0",
     "model_name": "FloatProgressModel",
     "state": {
      "_dom_classes": [],
      "_model_module": "@jupyter-widgets/controls",
      "_model_module_version": "1.5.0",
      "_model_name": "FloatProgressModel",
      "_view_count": null,
      "_view_module": "@jupyter-widgets/controls",
      "_view_module_version": "1.5.0",
      "_view_name": "ProgressView",
      "bar_style": "",
      "description": "",
      "description_tooltip": null,
      "layout": "IPY_MODEL_92f8affa90c044e488491f122fd0a797",
      "max": 27558,
      "min": 0,
      "orientation": "horizontal",
      "style": "IPY_MODEL_e7e91d454be247e69bae13d9e392eb6e",
      "value": 27558
     }
    },
    "5a5856be54444a528c23d9d7fd1c5c10": {
     "model_module": "@jupyter-widgets/base",
     "model_module_version": "1.2.0",
     "model_name": "LayoutModel",
     "state": {
      "_model_module": "@jupyter-widgets/base",
      "_model_module_version": "1.2.0",
      "_model_name": "LayoutModel",
      "_view_count": null,
      "_view_module": "@jupyter-widgets/base",
      "_view_module_version": "1.2.0",
      "_view_name": "LayoutView",
      "align_content": null,
      "align_items": null,
      "align_self": null,
      "border": null,
      "bottom": null,
      "display": null,
      "flex": null,
      "flex_flow": null,
      "grid_area": null,
      "grid_auto_columns": null,
      "grid_auto_flow": null,
      "grid_auto_rows": null,
      "grid_column": null,
      "grid_gap": null,
      "grid_row": null,
      "grid_template_areas": null,
      "grid_template_columns": null,
      "grid_template_rows": null,
      "height": null,
      "justify_content": null,
      "justify_items": null,
      "left": null,
      "margin": null,
      "max_height": null,
      "max_width": null,
      "min_height": null,
      "min_width": null,
      "object_fit": null,
      "object_position": null,
      "order": null,
      "overflow": null,
      "overflow_x": null,
      "overflow_y": null,
      "padding": null,
      "right": null,
      "top": null,
      "visibility": null,
      "width": null
     }
    },
    "5fac40be3aa3422484419fe6f584c3ca": {
     "model_module": "@jupyter-widgets/base",
     "model_module_version": "1.2.0",
     "model_name": "LayoutModel",
     "state": {
      "_model_module": "@jupyter-widgets/base",
      "_model_module_version": "1.2.0",
      "_model_name": "LayoutModel",
      "_view_count": null,
      "_view_module": "@jupyter-widgets/base",
      "_view_module_version": "1.2.0",
      "_view_name": "LayoutView",
      "align_content": null,
      "align_items": null,
      "align_self": null,
      "border": null,
      "bottom": null,
      "display": null,
      "flex": null,
      "flex_flow": null,
      "grid_area": null,
      "grid_auto_columns": null,
      "grid_auto_flow": null,
      "grid_auto_rows": null,
      "grid_column": null,
      "grid_gap": null,
      "grid_row": null,
      "grid_template_areas": null,
      "grid_template_columns": null,
      "grid_template_rows": null,
      "height": null,
      "justify_content": null,
      "justify_items": null,
      "left": null,
      "margin": null,
      "max_height": null,
      "max_width": null,
      "min_height": null,
      "min_width": null,
      "object_fit": null,
      "object_position": null,
      "order": null,
      "overflow": null,
      "overflow_x": null,
      "overflow_y": null,
      "padding": null,
      "right": null,
      "top": null,
      "visibility": "hidden",
      "width": null
     }
    },
    "630425d1d4444862b1cbe8b58c0cbaa2": {
     "model_module": "@jupyter-widgets/controls",
     "model_module_version": "1.5.0",
     "model_name": "HTMLModel",
     "state": {
      "_dom_classes": [],
      "_model_module": "@jupyter-widgets/controls",
      "_model_module_version": "1.5.0",
      "_model_name": "HTMLModel",
      "_view_count": null,
      "_view_module": "@jupyter-widgets/controls",
      "_view_module_version": "1.5.0",
      "_view_name": "HTMLView",
      "description": "",
      "description_tooltip": null,
      "layout": "IPY_MODEL_2f103ef05a4747158d379ddb90548712",
      "placeholder": "​",
      "style": "IPY_MODEL_b6c8172446eb40cd9ee396c94e600211",
      "value": "Dl Completed...: 100%"
     }
    },
    "66f8b3b5262045f592c756da158f0531": {
     "model_module": "@jupyter-widgets/controls",
     "model_module_version": "1.5.0",
     "model_name": "HTMLModel",
     "state": {
      "_dom_classes": [],
      "_model_module": "@jupyter-widgets/controls",
      "_model_module_version": "1.5.0",
      "_model_name": "HTMLModel",
      "_view_count": null,
      "_view_module": "@jupyter-widgets/controls",
      "_view_module_version": "1.5.0",
      "_view_name": "HTMLView",
      "description": "",
      "description_tooltip": null,
      "layout": "IPY_MODEL_96d7044c41c84f39be202fb1653ec598",
      "placeholder": "​",
      "style": "IPY_MODEL_2410a5aefe9c40e485f2230bfc21761e",
      "value": "Shuffling /root/tensorflow_datasets/malaria/1.0.0.incompleteNW084V/malaria-train.tfrecord*...: 100%"
     }
    },
    "76524281ac854670af0730825cbeacbf": {
     "model_module": "@jupyter-widgets/controls",
     "model_module_version": "1.5.0",
     "model_name": "DescriptionStyleModel",
     "state": {
      "_model_module": "@jupyter-widgets/controls",
      "_model_module_version": "1.5.0",
      "_model_name": "DescriptionStyleModel",
      "_view_count": null,
      "_view_module": "@jupyter-widgets/base",
      "_view_module_version": "1.2.0",
      "_view_name": "StyleView",
      "description_width": ""
     }
    },
    "77be8125f52d42859943e0ffaf2fb810": {
     "model_module": "@jupyter-widgets/controls",
     "model_module_version": "1.5.0",
     "model_name": "FloatProgressModel",
     "state": {
      "_dom_classes": [],
      "_model_module": "@jupyter-widgets/controls",
      "_model_module_version": "1.5.0",
      "_model_name": "FloatProgressModel",
      "_view_count": null,
      "_view_module": "@jupyter-widgets/controls",
      "_view_module_version": "1.5.0",
      "_view_name": "ProgressView",
      "bar_style": "info",
      "description": "",
      "description_tooltip": null,
      "layout": "IPY_MODEL_b04de09bda774ddf9d47605070c41afb",
      "max": 1,
      "min": 0,
      "orientation": "horizontal",
      "style": "IPY_MODEL_24b35bac7279442c89646e1a623e0bab",
      "value": 1
     }
    },
    "8121e4f979db41378e5755760e104b62": {
     "model_module": "@jupyter-widgets/controls",
     "model_module_version": "1.5.0",
     "model_name": "FloatProgressModel",
     "state": {
      "_dom_classes": [],
      "_model_module": "@jupyter-widgets/controls",
      "_model_module_version": "1.5.0",
      "_model_name": "FloatProgressModel",
      "_view_count": null,
      "_view_module": "@jupyter-widgets/controls",
      "_view_module_version": "1.5.0",
      "_view_name": "ProgressView",
      "bar_style": "",
      "description": "",
      "description_tooltip": null,
      "layout": "IPY_MODEL_16594fdaaf994f08b17cce29e33808cd",
      "max": 27558,
      "min": 0,
      "orientation": "horizontal",
      "style": "IPY_MODEL_d80a666b36364446b454886b90a49128",
      "value": 27558
     }
    },
    "84902ec2aed54c1ab5d669463d3f7fa4": {
     "model_module": "@jupyter-widgets/base",
     "model_module_version": "1.2.0",
     "model_name": "LayoutModel",
     "state": {
      "_model_module": "@jupyter-widgets/base",
      "_model_module_version": "1.2.0",
      "_model_name": "LayoutModel",
      "_view_count": null,
      "_view_module": "@jupyter-widgets/base",
      "_view_module_version": "1.2.0",
      "_view_name": "LayoutView",
      "align_content": null,
      "align_items": null,
      "align_self": null,
      "border": null,
      "bottom": null,
      "display": null,
      "flex": null,
      "flex_flow": null,
      "grid_area": null,
      "grid_auto_columns": null,
      "grid_auto_flow": null,
      "grid_auto_rows": null,
      "grid_column": null,
      "grid_gap": null,
      "grid_row": null,
      "grid_template_areas": null,
      "grid_template_columns": null,
      "grid_template_rows": null,
      "height": null,
      "justify_content": null,
      "justify_items": null,
      "left": null,
      "margin": null,
      "max_height": null,
      "max_width": null,
      "min_height": null,
      "min_width": null,
      "object_fit": null,
      "object_position": null,
      "order": null,
      "overflow": null,
      "overflow_x": null,
      "overflow_y": null,
      "padding": null,
      "right": null,
      "top": null,
      "visibility": "hidden",
      "width": null
     }
    },
    "87e473e59b394f11bea5105919d1ebbb": {
     "model_module": "@jupyter-widgets/base",
     "model_module_version": "1.2.0",
     "model_name": "LayoutModel",
     "state": {
      "_model_module": "@jupyter-widgets/base",
      "_model_module_version": "1.2.0",
      "_model_name": "LayoutModel",
      "_view_count": null,
      "_view_module": "@jupyter-widgets/base",
      "_view_module_version": "1.2.0",
      "_view_name": "LayoutView",
      "align_content": null,
      "align_items": null,
      "align_self": null,
      "border": null,
      "bottom": null,
      "display": null,
      "flex": null,
      "flex_flow": null,
      "grid_area": null,
      "grid_auto_columns": null,
      "grid_auto_flow": null,
      "grid_auto_rows": null,
      "grid_column": null,
      "grid_gap": null,
      "grid_row": null,
      "grid_template_areas": null,
      "grid_template_columns": null,
      "grid_template_rows": null,
      "height": null,
      "justify_content": null,
      "justify_items": null,
      "left": null,
      "margin": null,
      "max_height": null,
      "max_width": null,
      "min_height": null,
      "min_width": null,
      "object_fit": null,
      "object_position": null,
      "order": null,
      "overflow": null,
      "overflow_x": null,
      "overflow_y": null,
      "padding": null,
      "right": null,
      "top": null,
      "visibility": null,
      "width": "20px"
     }
    },
    "88e626bc1ee840bcb8cce7c2ada119c3": {
     "model_module": "@jupyter-widgets/controls",
     "model_module_version": "1.5.0",
     "model_name": "DescriptionStyleModel",
     "state": {
      "_model_module": "@jupyter-widgets/controls",
      "_model_module_version": "1.5.0",
      "_model_name": "DescriptionStyleModel",
      "_view_count": null,
      "_view_module": "@jupyter-widgets/base",
      "_view_module_version": "1.2.0",
      "_view_name": "StyleView",
      "description_width": ""
     }
    },
    "88f690f5e74e4641a0f7a385f2e3ec21": {
     "model_module": "@jupyter-widgets/base",
     "model_module_version": "1.2.0",
     "model_name": "LayoutModel",
     "state": {
      "_model_module": "@jupyter-widgets/base",
      "_model_module_version": "1.2.0",
      "_model_name": "LayoutModel",
      "_view_count": null,
      "_view_module": "@jupyter-widgets/base",
      "_view_module_version": "1.2.0",
      "_view_name": "LayoutView",
      "align_content": null,
      "align_items": null,
      "align_self": null,
      "border": null,
      "bottom": null,
      "display": null,
      "flex": null,
      "flex_flow": null,
      "grid_area": null,
      "grid_auto_columns": null,
      "grid_auto_flow": null,
      "grid_auto_rows": null,
      "grid_column": null,
      "grid_gap": null,
      "grid_row": null,
      "grid_template_areas": null,
      "grid_template_columns": null,
      "grid_template_rows": null,
      "height": null,
      "justify_content": null,
      "justify_items": null,
      "left": null,
      "margin": null,
      "max_height": null,
      "max_width": null,
      "min_height": null,
      "min_width": null,
      "object_fit": null,
      "object_position": null,
      "order": null,
      "overflow": null,
      "overflow_x": null,
      "overflow_y": null,
      "padding": null,
      "right": null,
      "top": null,
      "visibility": null,
      "width": null
     }
    },
    "8f27b776b031451eb2028a7bd248d92a": {
     "model_module": "@jupyter-widgets/base",
     "model_module_version": "1.2.0",
     "model_name": "LayoutModel",
     "state": {
      "_model_module": "@jupyter-widgets/base",
      "_model_module_version": "1.2.0",
      "_model_name": "LayoutModel",
      "_view_count": null,
      "_view_module": "@jupyter-widgets/base",
      "_view_module_version": "1.2.0",
      "_view_name": "LayoutView",
      "align_content": null,
      "align_items": null,
      "align_self": null,
      "border": null,
      "bottom": null,
      "display": null,
      "flex": null,
      "flex_flow": null,
      "grid_area": null,
      "grid_auto_columns": null,
      "grid_auto_flow": null,
      "grid_auto_rows": null,
      "grid_column": null,
      "grid_gap": null,
      "grid_row": null,
      "grid_template_areas": null,
      "grid_template_columns": null,
      "grid_template_rows": null,
      "height": null,
      "justify_content": null,
      "justify_items": null,
      "left": null,
      "margin": null,
      "max_height": null,
      "max_width": null,
      "min_height": null,
      "min_width": null,
      "object_fit": null,
      "object_position": null,
      "order": null,
      "overflow": null,
      "overflow_x": null,
      "overflow_y": null,
      "padding": null,
      "right": null,
      "top": null,
      "visibility": null,
      "width": null
     }
    },
    "903c3c48408847688b93faa60752acbf": {
     "model_module": "@jupyter-widgets/controls",
     "model_module_version": "1.5.0",
     "model_name": "HBoxModel",
     "state": {
      "_dom_classes": [],
      "_model_module": "@jupyter-widgets/controls",
      "_model_module_version": "1.5.0",
      "_model_name": "HBoxModel",
      "_view_count": null,
      "_view_module": "@jupyter-widgets/controls",
      "_view_module_version": "1.5.0",
      "_view_name": "HBoxView",
      "box_style": "",
      "children": [
       "IPY_MODEL_e2b1b211f433421d8561daf5d4a4d4a5",
       "IPY_MODEL_b6754e0ac64e474a8b6722e9078e3fe3",
       "IPY_MODEL_2a3a160fdb904c92b57692970454b477"
      ],
      "layout": "IPY_MODEL_88f690f5e74e4641a0f7a385f2e3ec21"
     }
    },
    "92f8affa90c044e488491f122fd0a797": {
     "model_module": "@jupyter-widgets/base",
     "model_module_version": "1.2.0",
     "model_name": "LayoutModel",
     "state": {
      "_model_module": "@jupyter-widgets/base",
      "_model_module_version": "1.2.0",
      "_model_name": "LayoutModel",
      "_view_count": null,
      "_view_module": "@jupyter-widgets/base",
      "_view_module_version": "1.2.0",
      "_view_name": "LayoutView",
      "align_content": null,
      "align_items": null,
      "align_self": null,
      "border": null,
      "bottom": null,
      "display": null,
      "flex": null,
      "flex_flow": null,
      "grid_area": null,
      "grid_auto_columns": null,
      "grid_auto_flow": null,
      "grid_auto_rows": null,
      "grid_column": null,
      "grid_gap": null,
      "grid_row": null,
      "grid_template_areas": null,
      "grid_template_columns": null,
      "grid_template_rows": null,
      "height": null,
      "justify_content": null,
      "justify_items": null,
      "left": null,
      "margin": null,
      "max_height": null,
      "max_width": null,
      "min_height": null,
      "min_width": null,
      "object_fit": null,
      "object_position": null,
      "order": null,
      "overflow": null,
      "overflow_x": null,
      "overflow_y": null,
      "padding": null,
      "right": null,
      "top": null,
      "visibility": null,
      "width": null
     }
    },
    "9694d9cf415b4689b97ecefbe995496c": {
     "model_module": "@jupyter-widgets/controls",
     "model_module_version": "1.5.0",
     "model_name": "HBoxModel",
     "state": {
      "_dom_classes": [],
      "_model_module": "@jupyter-widgets/controls",
      "_model_module_version": "1.5.0",
      "_model_name": "HBoxModel",
      "_view_count": null,
      "_view_module": "@jupyter-widgets/controls",
      "_view_module_version": "1.5.0",
      "_view_name": "HBoxView",
      "box_style": "",
      "children": [
       "IPY_MODEL_66f8b3b5262045f592c756da158f0531",
       "IPY_MODEL_8121e4f979db41378e5755760e104b62",
       "IPY_MODEL_aaf65eecdb654566a49809b7da0783d0"
      ],
      "layout": "IPY_MODEL_84902ec2aed54c1ab5d669463d3f7fa4"
     }
    },
    "96d7044c41c84f39be202fb1653ec598": {
     "model_module": "@jupyter-widgets/base",
     "model_module_version": "1.2.0",
     "model_name": "LayoutModel",
     "state": {
      "_model_module": "@jupyter-widgets/base",
      "_model_module_version": "1.2.0",
      "_model_name": "LayoutModel",
      "_view_count": null,
      "_view_module": "@jupyter-widgets/base",
      "_view_module_version": "1.2.0",
      "_view_name": "LayoutView",
      "align_content": null,
      "align_items": null,
      "align_self": null,
      "border": null,
      "bottom": null,
      "display": null,
      "flex": null,
      "flex_flow": null,
      "grid_area": null,
      "grid_auto_columns": null,
      "grid_auto_flow": null,
      "grid_auto_rows": null,
      "grid_column": null,
      "grid_gap": null,
      "grid_row": null,
      "grid_template_areas": null,
      "grid_template_columns": null,
      "grid_template_rows": null,
      "height": null,
      "justify_content": null,
      "justify_items": null,
      "left": null,
      "margin": null,
      "max_height": null,
      "max_width": null,
      "min_height": null,
      "min_width": null,
      "object_fit": null,
      "object_position": null,
      "order": null,
      "overflow": null,
      "overflow_x": null,
      "overflow_y": null,
      "padding": null,
      "right": null,
      "top": null,
      "visibility": null,
      "width": null
     }
    },
    "9b735caf1383416a8bee2b7b1dc3d32e": {
     "model_module": "@jupyter-widgets/controls",
     "model_module_version": "1.5.0",
     "model_name": "FloatProgressModel",
     "state": {
      "_dom_classes": [],
      "_model_module": "@jupyter-widgets/controls",
      "_model_module_version": "1.5.0",
      "_model_name": "FloatProgressModel",
      "_view_count": null,
      "_view_module": "@jupyter-widgets/controls",
      "_view_module_version": "1.5.0",
      "_view_name": "ProgressView",
      "bar_style": "info",
      "description": "",
      "description_tooltip": null,
      "layout": "IPY_MODEL_5417b480cb7449bbbd9081d16a71a777",
      "max": 1,
      "min": 0,
      "orientation": "horizontal",
      "style": "IPY_MODEL_e2a42d7f0b32437083dd114fdad0b782",
      "value": 1
     }
    },
    "9ccc1d5117d1401091eac6a1e458c482": {
     "model_module": "@jupyter-widgets/base",
     "model_module_version": "1.2.0",
     "model_name": "LayoutModel",
     "state": {
      "_model_module": "@jupyter-widgets/base",
      "_model_module_version": "1.2.0",
      "_model_name": "LayoutModel",
      "_view_count": null,
      "_view_module": "@jupyter-widgets/base",
      "_view_module_version": "1.2.0",
      "_view_name": "LayoutView",
      "align_content": null,
      "align_items": null,
      "align_self": null,
      "border": null,
      "bottom": null,
      "display": null,
      "flex": null,
      "flex_flow": null,
      "grid_area": null,
      "grid_auto_columns": null,
      "grid_auto_flow": null,
      "grid_auto_rows": null,
      "grid_column": null,
      "grid_gap": null,
      "grid_row": null,
      "grid_template_areas": null,
      "grid_template_columns": null,
      "grid_template_rows": null,
      "height": null,
      "justify_content": null,
      "justify_items": null,
      "left": null,
      "margin": null,
      "max_height": null,
      "max_width": null,
      "min_height": null,
      "min_width": null,
      "object_fit": null,
      "object_position": null,
      "order": null,
      "overflow": null,
      "overflow_x": null,
      "overflow_y": null,
      "padding": null,
      "right": null,
      "top": null,
      "visibility": null,
      "width": null
     }
    },
    "9f04c87cc97647fca14f3a137bcf3381": {
     "model_module": "@jupyter-widgets/base",
     "model_module_version": "1.2.0",
     "model_name": "LayoutModel",
     "state": {
      "_model_module": "@jupyter-widgets/base",
      "_model_module_version": "1.2.0",
      "_model_name": "LayoutModel",
      "_view_count": null,
      "_view_module": "@jupyter-widgets/base",
      "_view_module_version": "1.2.0",
      "_view_name": "LayoutView",
      "align_content": null,
      "align_items": null,
      "align_self": null,
      "border": null,
      "bottom": null,
      "display": null,
      "flex": null,
      "flex_flow": null,
      "grid_area": null,
      "grid_auto_columns": null,
      "grid_auto_flow": null,
      "grid_auto_rows": null,
      "grid_column": null,
      "grid_gap": null,
      "grid_row": null,
      "grid_template_areas": null,
      "grid_template_columns": null,
      "grid_template_rows": null,
      "height": null,
      "justify_content": null,
      "justify_items": null,
      "left": null,
      "margin": null,
      "max_height": null,
      "max_width": null,
      "min_height": null,
      "min_width": null,
      "object_fit": null,
      "object_position": null,
      "order": null,
      "overflow": null,
      "overflow_x": null,
      "overflow_y": null,
      "padding": null,
      "right": null,
      "top": null,
      "visibility": null,
      "width": null
     }
    },
    "a074da75021949e3948500fb4a435573": {
     "model_module": "@jupyter-widgets/base",
     "model_module_version": "1.2.0",
     "model_name": "LayoutModel",
     "state": {
      "_model_module": "@jupyter-widgets/base",
      "_model_module_version": "1.2.0",
      "_model_name": "LayoutModel",
      "_view_count": null,
      "_view_module": "@jupyter-widgets/base",
      "_view_module_version": "1.2.0",
      "_view_name": "LayoutView",
      "align_content": null,
      "align_items": null,
      "align_self": null,
      "border": null,
      "bottom": null,
      "display": null,
      "flex": null,
      "flex_flow": null,
      "grid_area": null,
      "grid_auto_columns": null,
      "grid_auto_flow": null,
      "grid_auto_rows": null,
      "grid_column": null,
      "grid_gap": null,
      "grid_row": null,
      "grid_template_areas": null,
      "grid_template_columns": null,
      "grid_template_rows": null,
      "height": null,
      "justify_content": null,
      "justify_items": null,
      "left": null,
      "margin": null,
      "max_height": null,
      "max_width": null,
      "min_height": null,
      "min_width": null,
      "object_fit": null,
      "object_position": null,
      "order": null,
      "overflow": null,
      "overflow_x": null,
      "overflow_y": null,
      "padding": null,
      "right": null,
      "top": null,
      "visibility": null,
      "width": null
     }
    },
    "a652015a9186405ea68c675df63f8c8a": {
     "model_module": "@jupyter-widgets/controls",
     "model_module_version": "1.5.0",
     "model_name": "HTMLModel",
     "state": {
      "_dom_classes": [],
      "_model_module": "@jupyter-widgets/controls",
      "_model_module_version": "1.5.0",
      "_model_name": "HTMLModel",
      "_view_count": null,
      "_view_module": "@jupyter-widgets/controls",
      "_view_module_version": "1.5.0",
      "_view_name": "HTMLView",
      "description": "",
      "description_tooltip": null,
      "layout": "IPY_MODEL_a074da75021949e3948500fb4a435573",
      "placeholder": "​",
      "style": "IPY_MODEL_5162ce0c1d124f2e98e34a3acfe89702",
      "value": "Generating train examples...:  99%"
     }
    },
    "aaf65eecdb654566a49809b7da0783d0": {
     "model_module": "@jupyter-widgets/controls",
     "model_module_version": "1.5.0",
     "model_name": "HTMLModel",
     "state": {
      "_dom_classes": [],
      "_model_module": "@jupyter-widgets/controls",
      "_model_module_version": "1.5.0",
      "_model_name": "HTMLModel",
      "_view_count": null,
      "_view_module": "@jupyter-widgets/controls",
      "_view_module_version": "1.5.0",
      "_view_name": "HTMLView",
      "description": "",
      "description_tooltip": null,
      "layout": "IPY_MODEL_fd3649854e064061b9c7687204061577",
      "placeholder": "​",
      "style": "IPY_MODEL_88e626bc1ee840bcb8cce7c2ada119c3",
      "value": " 27454/27558 [00:00&lt;00:00, 36985.02 examples/s]"
     }
    },
    "ae5ddc7983084f1fbd0d964db0928be8": {
     "model_module": "@jupyter-widgets/base",
     "model_module_version": "1.2.0",
     "model_name": "LayoutModel",
     "state": {
      "_model_module": "@jupyter-widgets/base",
      "_model_module_version": "1.2.0",
      "_model_name": "LayoutModel",
      "_view_count": null,
      "_view_module": "@jupyter-widgets/base",
      "_view_module_version": "1.2.0",
      "_view_name": "LayoutView",
      "align_content": null,
      "align_items": null,
      "align_self": null,
      "border": null,
      "bottom": null,
      "display": null,
      "flex": null,
      "flex_flow": null,
      "grid_area": null,
      "grid_auto_columns": null,
      "grid_auto_flow": null,
      "grid_auto_rows": null,
      "grid_column": null,
      "grid_gap": null,
      "grid_row": null,
      "grid_template_areas": null,
      "grid_template_columns": null,
      "grid_template_rows": null,
      "height": null,
      "justify_content": null,
      "justify_items": null,
      "left": null,
      "margin": null,
      "max_height": null,
      "max_width": null,
      "min_height": null,
      "min_width": null,
      "object_fit": null,
      "object_position": null,
      "order": null,
      "overflow": null,
      "overflow_x": null,
      "overflow_y": null,
      "padding": null,
      "right": null,
      "top": null,
      "visibility": null,
      "width": null
     }
    },
    "b04de09bda774ddf9d47605070c41afb": {
     "model_module": "@jupyter-widgets/base",
     "model_module_version": "1.2.0",
     "model_name": "LayoutModel",
     "state": {
      "_model_module": "@jupyter-widgets/base",
      "_model_module_version": "1.2.0",
      "_model_name": "LayoutModel",
      "_view_count": null,
      "_view_module": "@jupyter-widgets/base",
      "_view_module_version": "1.2.0",
      "_view_name": "LayoutView",
      "align_content": null,
      "align_items": null,
      "align_self": null,
      "border": null,
      "bottom": null,
      "display": null,
      "flex": null,
      "flex_flow": null,
      "grid_area": null,
      "grid_auto_columns": null,
      "grid_auto_flow": null,
      "grid_auto_rows": null,
      "grid_column": null,
      "grid_gap": null,
      "grid_row": null,
      "grid_template_areas": null,
      "grid_template_columns": null,
      "grid_template_rows": null,
      "height": null,
      "justify_content": null,
      "justify_items": null,
      "left": null,
      "margin": null,
      "max_height": null,
      "max_width": null,
      "min_height": null,
      "min_width": null,
      "object_fit": null,
      "object_position": null,
      "order": null,
      "overflow": null,
      "overflow_x": null,
      "overflow_y": null,
      "padding": null,
      "right": null,
      "top": null,
      "visibility": null,
      "width": "20px"
     }
    },
    "b6754e0ac64e474a8b6722e9078e3fe3": {
     "model_module": "@jupyter-widgets/controls",
     "model_module_version": "1.5.0",
     "model_name": "FloatProgressModel",
     "state": {
      "_dom_classes": [],
      "_model_module": "@jupyter-widgets/controls",
      "_model_module_version": "1.5.0",
      "_model_name": "FloatProgressModel",
      "_view_count": null,
      "_view_module": "@jupyter-widgets/controls",
      "_view_module_version": "1.5.0",
      "_view_name": "ProgressView",
      "bar_style": "info",
      "description": "",
      "description_tooltip": null,
      "layout": "IPY_MODEL_87e473e59b394f11bea5105919d1ebbb",
      "max": 1,
      "min": 0,
      "orientation": "horizontal",
      "style": "IPY_MODEL_c7aef0884c60416a8a92509bf4a8d471",
      "value": 1
     }
    },
    "b6c8172446eb40cd9ee396c94e600211": {
     "model_module": "@jupyter-widgets/controls",
     "model_module_version": "1.5.0",
     "model_name": "DescriptionStyleModel",
     "state": {
      "_model_module": "@jupyter-widgets/controls",
      "_model_module_version": "1.5.0",
      "_model_name": "DescriptionStyleModel",
      "_view_count": null,
      "_view_module": "@jupyter-widgets/base",
      "_view_module_version": "1.2.0",
      "_view_name": "StyleView",
      "description_width": ""
     }
    },
    "b6d70d134ec54c50af885975dbb3fc50": {
     "model_module": "@jupyter-widgets/controls",
     "model_module_version": "1.5.0",
     "model_name": "DescriptionStyleModel",
     "state": {
      "_model_module": "@jupyter-widgets/controls",
      "_model_module_version": "1.5.0",
      "_model_name": "DescriptionStyleModel",
      "_view_count": null,
      "_view_module": "@jupyter-widgets/base",
      "_view_module_version": "1.2.0",
      "_view_name": "StyleView",
      "description_width": ""
     }
    },
    "badc785b39a04fccb869767c0909814c": {
     "model_module": "@jupyter-widgets/controls",
     "model_module_version": "1.5.0",
     "model_name": "HTMLModel",
     "state": {
      "_dom_classes": [],
      "_model_module": "@jupyter-widgets/controls",
      "_model_module_version": "1.5.0",
      "_model_name": "HTMLModel",
      "_view_count": null,
      "_view_module": "@jupyter-widgets/controls",
      "_view_module_version": "1.5.0",
      "_view_name": "HTMLView",
      "description": "",
      "description_tooltip": null,
      "layout": "IPY_MODEL_52cdae9806bd4bd78e9109f7f71b01a0",
      "placeholder": "​",
      "style": "IPY_MODEL_76524281ac854670af0730825cbeacbf",
      "value": "Extraction completed...:  97%"
     }
    },
    "bf30e8e4c0ae4ec98860512b6860e463": {
     "model_module": "@jupyter-widgets/controls",
     "model_module_version": "1.5.0",
     "model_name": "DescriptionStyleModel",
     "state": {
      "_model_module": "@jupyter-widgets/controls",
      "_model_module_version": "1.5.0",
      "_model_name": "DescriptionStyleModel",
      "_view_count": null,
      "_view_module": "@jupyter-widgets/base",
      "_view_module_version": "1.2.0",
      "_view_name": "StyleView",
      "description_width": ""
     }
    },
    "c51a4792e5d04fb19eb1f50b1a50b0d7": {
     "model_module": "@jupyter-widgets/base",
     "model_module_version": "1.2.0",
     "model_name": "LayoutModel",
     "state": {
      "_model_module": "@jupyter-widgets/base",
      "_model_module_version": "1.2.0",
      "_model_name": "LayoutModel",
      "_view_count": null,
      "_view_module": "@jupyter-widgets/base",
      "_view_module_version": "1.2.0",
      "_view_name": "LayoutView",
      "align_content": null,
      "align_items": null,
      "align_self": null,
      "border": null,
      "bottom": null,
      "display": null,
      "flex": null,
      "flex_flow": null,
      "grid_area": null,
      "grid_auto_columns": null,
      "grid_auto_flow": null,
      "grid_auto_rows": null,
      "grid_column": null,
      "grid_gap": null,
      "grid_row": null,
      "grid_template_areas": null,
      "grid_template_columns": null,
      "grid_template_rows": null,
      "height": null,
      "justify_content": null,
      "justify_items": null,
      "left": null,
      "margin": null,
      "max_height": null,
      "max_width": null,
      "min_height": null,
      "min_width": null,
      "object_fit": null,
      "object_position": null,
      "order": null,
      "overflow": null,
      "overflow_x": null,
      "overflow_y": null,
      "padding": null,
      "right": null,
      "top": null,
      "visibility": null,
      "width": null
     }
    },
    "c7aef0884c60416a8a92509bf4a8d471": {
     "model_module": "@jupyter-widgets/controls",
     "model_module_version": "1.5.0",
     "model_name": "ProgressStyleModel",
     "state": {
      "_model_module": "@jupyter-widgets/controls",
      "_model_module_version": "1.5.0",
      "_model_name": "ProgressStyleModel",
      "_view_count": null,
      "_view_module": "@jupyter-widgets/base",
      "_view_module_version": "1.2.0",
      "_view_name": "StyleView",
      "bar_color": null,
      "description_width": ""
     }
    },
    "d1c216b01c1a4864a1bbd54b6c9e1fb8": {
     "model_module": "@jupyter-widgets/controls",
     "model_module_version": "1.5.0",
     "model_name": "DescriptionStyleModel",
     "state": {
      "_model_module": "@jupyter-widgets/controls",
      "_model_module_version": "1.5.0",
      "_model_name": "DescriptionStyleModel",
      "_view_count": null,
      "_view_module": "@jupyter-widgets/base",
      "_view_module_version": "1.2.0",
      "_view_name": "StyleView",
      "description_width": ""
     }
    },
    "d80a666b36364446b454886b90a49128": {
     "model_module": "@jupyter-widgets/controls",
     "model_module_version": "1.5.0",
     "model_name": "ProgressStyleModel",
     "state": {
      "_model_module": "@jupyter-widgets/controls",
      "_model_module_version": "1.5.0",
      "_model_name": "ProgressStyleModel",
      "_view_count": null,
      "_view_module": "@jupyter-widgets/base",
      "_view_module_version": "1.2.0",
      "_view_name": "StyleView",
      "bar_color": null,
      "description_width": ""
     }
    },
    "da8a971db66f41fdb517d43f59119fbc": {
     "model_module": "@jupyter-widgets/controls",
     "model_module_version": "1.5.0",
     "model_name": "HTMLModel",
     "state": {
      "_dom_classes": [],
      "_model_module": "@jupyter-widgets/controls",
      "_model_module_version": "1.5.0",
      "_model_name": "HTMLModel",
      "_view_count": null,
      "_view_module": "@jupyter-widgets/controls",
      "_view_module_version": "1.5.0",
      "_view_name": "HTMLView",
      "description": "",
      "description_tooltip": null,
      "layout": "IPY_MODEL_8f27b776b031451eb2028a7bd248d92a",
      "placeholder": "​",
      "style": "IPY_MODEL_bf30e8e4c0ae4ec98860512b6860e463",
      "value": " 26820/27560 [01:26&lt;00:00, 975.20 file/s]"
     }
    },
    "dca16a8153134c358651fd767e975d6c": {
     "model_module": "@jupyter-widgets/base",
     "model_module_version": "1.2.0",
     "model_name": "LayoutModel",
     "state": {
      "_model_module": "@jupyter-widgets/base",
      "_model_module_version": "1.2.0",
      "_model_name": "LayoutModel",
      "_view_count": null,
      "_view_module": "@jupyter-widgets/base",
      "_view_module_version": "1.2.0",
      "_view_name": "LayoutView",
      "align_content": null,
      "align_items": null,
      "align_self": null,
      "border": null,
      "bottom": null,
      "display": null,
      "flex": null,
      "flex_flow": null,
      "grid_area": null,
      "grid_auto_columns": null,
      "grid_auto_flow": null,
      "grid_auto_rows": null,
      "grid_column": null,
      "grid_gap": null,
      "grid_row": null,
      "grid_template_areas": null,
      "grid_template_columns": null,
      "grid_template_rows": null,
      "height": null,
      "justify_content": null,
      "justify_items": null,
      "left": null,
      "margin": null,
      "max_height": null,
      "max_width": null,
      "min_height": null,
      "min_width": null,
      "object_fit": null,
      "object_position": null,
      "order": null,
      "overflow": null,
      "overflow_x": null,
      "overflow_y": null,
      "padding": null,
      "right": null,
      "top": null,
      "visibility": null,
      "width": null
     }
    },
    "e2a42d7f0b32437083dd114fdad0b782": {
     "model_module": "@jupyter-widgets/controls",
     "model_module_version": "1.5.0",
     "model_name": "ProgressStyleModel",
     "state": {
      "_model_module": "@jupyter-widgets/controls",
      "_model_module_version": "1.5.0",
      "_model_name": "ProgressStyleModel",
      "_view_count": null,
      "_view_module": "@jupyter-widgets/base",
      "_view_module_version": "1.2.0",
      "_view_name": "StyleView",
      "bar_color": null,
      "description_width": ""
     }
    },
    "e2b1b211f433421d8561daf5d4a4d4a5": {
     "model_module": "@jupyter-widgets/controls",
     "model_module_version": "1.5.0",
     "model_name": "HTMLModel",
     "state": {
      "_dom_classes": [],
      "_model_module": "@jupyter-widgets/controls",
      "_model_module_version": "1.5.0",
      "_model_name": "HTMLModel",
      "_view_count": null,
      "_view_module": "@jupyter-widgets/controls",
      "_view_module_version": "1.5.0",
      "_view_name": "HTMLView",
      "description": "",
      "description_tooltip": null,
      "layout": "IPY_MODEL_9ccc1d5117d1401091eac6a1e458c482",
      "placeholder": "​",
      "style": "IPY_MODEL_d1c216b01c1a4864a1bbd54b6c9e1fb8",
      "value": "Dl Size...: 100%"
     }
    },
    "e7e91d454be247e69bae13d9e392eb6e": {
     "model_module": "@jupyter-widgets/controls",
     "model_module_version": "1.5.0",
     "model_name": "ProgressStyleModel",
     "state": {
      "_model_module": "@jupyter-widgets/controls",
      "_model_module_version": "1.5.0",
      "_model_name": "ProgressStyleModel",
      "_view_count": null,
      "_view_module": "@jupyter-widgets/base",
      "_view_module_version": "1.2.0",
      "_view_name": "StyleView",
      "bar_color": null,
      "description_width": ""
     }
    },
    "eb53aa9eb3f9414bba7df79f74645ab4": {
     "model_module": "@jupyter-widgets/controls",
     "model_module_version": "1.5.0",
     "model_name": "HTMLModel",
     "state": {
      "_dom_classes": [],
      "_model_module": "@jupyter-widgets/controls",
      "_model_module_version": "1.5.0",
      "_model_name": "HTMLModel",
      "_view_count": null,
      "_view_module": "@jupyter-widgets/controls",
      "_view_module_version": "1.5.0",
      "_view_name": "HTMLView",
      "description": "",
      "description_tooltip": null,
      "layout": "IPY_MODEL_ae5ddc7983084f1fbd0d964db0928be8",
      "placeholder": "​",
      "style": "IPY_MODEL_b6d70d134ec54c50af885975dbb3fc50",
      "value": " 1/1 [01:26&lt;00:00,  6.18s/ url]"
     }
    },
    "fd3649854e064061b9c7687204061577": {
     "model_module": "@jupyter-widgets/base",
     "model_module_version": "1.2.0",
     "model_name": "LayoutModel",
     "state": {
      "_model_module": "@jupyter-widgets/base",
      "_model_module_version": "1.2.0",
      "_model_name": "LayoutModel",
      "_view_count": null,
      "_view_module": "@jupyter-widgets/base",
      "_view_module_version": "1.2.0",
      "_view_name": "LayoutView",
      "align_content": null,
      "align_items": null,
      "align_self": null,
      "border": null,
      "bottom": null,
      "display": null,
      "flex": null,
      "flex_flow": null,
      "grid_area": null,
      "grid_auto_columns": null,
      "grid_auto_flow": null,
      "grid_auto_rows": null,
      "grid_column": null,
      "grid_gap": null,
      "grid_row": null,
      "grid_template_areas": null,
      "grid_template_columns": null,
      "grid_template_rows": null,
      "height": null,
      "justify_content": null,
      "justify_items": null,
      "left": null,
      "margin": null,
      "max_height": null,
      "max_width": null,
      "min_height": null,
      "min_width": null,
      "object_fit": null,
      "object_position": null,
      "order": null,
      "overflow": null,
      "overflow_x": null,
      "overflow_y": null,
      "padding": null,
      "right": null,
      "top": null,
      "visibility": null,
      "width": null
     }
    }
   }
  }
 },
 "nbformat": 4,
 "nbformat_minor": 1
}
