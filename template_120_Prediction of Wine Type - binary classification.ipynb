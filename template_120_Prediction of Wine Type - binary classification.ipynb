{
 "cells": [
  {
   "cell_type": "markdown",
   "metadata": {},
   "source": [
    "# Deep Learning 을 이용한 Red/White Wine 예측 - 이진 분류\n",
    "\n",
    "- Dataset 내용\n",
    "\n",
    "    - 고정산 (Fixed Acidity) : 포도의 산은 휘발산 / 비휘발(고정)산 두가지 종류가 있음. 단위 : gm/dm3\n",
    "    - 휘발산 (Volatile Acitidy) : 공기와 접촉하면 초산으로 변화. 단위 - gm/dm3\n",
    "    - 구연산 (Citric Acid) : 고정산의 일종. 단위 - g/dm3\n",
    "    - 잔당 (Residual Sugar) : 자연발효 후 남은 당분. 단위 - g/dm3\n",
    "    - 염화물 (Chloride) : 와인의 짠맛. 단위 - gm/dm3\n",
    "    - 이산화황 (Free sulfur dioxide) : 와인에 첨가한 이산화황 중 화홥물 형태가 아닌 것. 단위 - gm/dm3\n",
    "    - 총 이산화황 (Total Sulfur Dioxide) : 이산화황 총량. 단위 - gm/dm3\n",
    "    - 밀도 (density) : 알콜 농축도. 일반적으로 sweet 할 수록 density 가 높음\n",
    "    - pH : 7 미만 - 산성, 7 이상 - 알칼리성\n",
    "    - quality (score between 0 and 10)"
   ]
  },
  {
   "cell_type": "markdown",
   "metadata": {},
   "source": [
    "White Wine, Red Wine Dataset"
   ]
  },
  {
   "cell_type": "markdown",
   "metadata": {},
   "source": [
    "## Red 와 White wine의 Alchol 성분의 분포 시각화"
   ]
  },
  {
   "cell_type": "markdown",
   "metadata": {},
   "source": [
    "Red + White wine .을 하나의 dataframe으로 합병"
   ]
  },
  {
   "cell_type": "markdown",
   "metadata": {},
   "source": [
    "데이터프레임의 모든 숫자형 열 사이의 상관계수를 계산합니다. corr() method는 피어슨 상관계수를 반환."
   ]
  },
  {
   "cell_type": "markdown",
   "metadata": {},
   "source": [
    "quality 와 가장 양의 상관 관계가 높은 것은 alcohol 이고 density 와 chlorides 는 음의 상관관계가 있음.  \n",
    "\n",
    "사람들은 알콜 돗수가 높을 수록 고품질로 판단."
   ]
  },
  {
   "cell_type": "markdown",
   "metadata": {},
   "source": [
    "# Machine Learning - 이진 분류\n",
    "\n",
    "## label column 추가\n",
    "\n",
    "- red wine - 1, white wine - 0"
   ]
  },
  {
   "cell_type": "markdown",
   "metadata": {},
   "source": [
    "## dataset 합치기"
   ]
  },
  {
   "cell_type": "markdown",
   "metadata": {},
   "source": [
    "## Build model"
   ]
  }
 ],
 "metadata": {
  "kernelspec": {
   "display_name": "Python 3 (ipykernel)",
   "language": "python",
   "name": "python3"
  },
  "language_info": {
   "codemirror_mode": {
    "name": "ipython",
    "version": 3
   },
   "file_extension": ".py",
   "mimetype": "text/x-python",
   "name": "python",
   "nbconvert_exporter": "python",
   "pygments_lexer": "ipython3",
   "version": "3.9.16"
  }
 },
 "nbformat": 4,
 "nbformat_minor": 2
}
