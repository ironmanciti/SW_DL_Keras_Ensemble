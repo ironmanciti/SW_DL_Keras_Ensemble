{
 "cells": [
  {
   "cell_type": "markdown",
   "metadata": {},
   "source": [
    "# Keras Function API \n",
    "\n",
    "- Functional API 로 구성 가능한 다양한 Neural Network Models  \n",
    "\n",
    "- Google Colab 에서 실행"
   ]
  },
  {
   "cell_type": "code",
   "execution_count": 1,
   "metadata": {},
   "outputs": [],
   "source": [
    "from tensorflow.keras.utils import plot_model\n",
    "from tensorflow.keras.models import Model\n",
    "from tensorflow.keras.layers import Input, concatenate\n",
    "from tensorflow.keras.layers import Dense, Conv2D, MaxPooling2D, Flatten, LSTM, TimeDistributed"
   ]
  },
  {
   "cell_type": "markdown",
   "metadata": {},
   "source": [
    "# Standard Neural Network Models \n",
    "\n",
    "## 1. Simple Multi-layer Perceptron"
   ]
  },
  {
   "cell_type": "code",
   "execution_count": 2,
   "metadata": {},
   "outputs": [
    {
     "name": "stdout",
     "output_type": "stream",
     "text": [
      "Model: \"model\"\n",
      "_________________________________________________________________\n",
      " Layer (type)                Output Shape              Param #   \n",
      "=================================================================\n",
      " input_1 (InputLayer)        [(None, 10)]              0         \n",
      "                                                                 \n",
      " dense (Dense)               (None, 10)                110       \n",
      "                                                                 \n",
      " dense_1 (Dense)             (None, 20)                220       \n",
      "                                                                 \n",
      " dense_2 (Dense)             (None, 1)                 21        \n",
      "                                                                 \n",
      "=================================================================\n",
      "Total params: 351\n",
      "Trainable params: 351\n",
      "Non-trainable params: 0\n",
      "_________________________________________________________________\n"
     ]
    }
   ],
   "source": [
    "inp = Input(shape=(10,))\n",
    "x = Dense(10, activation='relu')(inp)\n",
    "x = Dense(20, activation='relu')(x)\n",
    "output = Dense(1, activation='sigmoid')(x)\n",
    "\n",
    "model = Model(inputs=inp, outputs=output)\n",
    "\n",
    "model.summary()"
   ]
  },
  {
   "cell_type": "code",
   "execution_count": 3,
   "metadata": {},
   "outputs": [
    {
     "name": "stdout",
     "output_type": "stream",
     "text": [
      "You must install pydot (`pip install pydot`) and install graphviz (see instructions at https://graphviz.gitlab.io/download/) for plot_model to work.\n"
     ]
    }
   ],
   "source": [
    "plot_model(model)"
   ]
  },
  {
   "cell_type": "markdown",
   "metadata": {},
   "source": [
    "## 2. Convolutional Neural Network"
   ]
  },
  {
   "cell_type": "code",
   "execution_count": 4,
   "metadata": {},
   "outputs": [
    {
     "name": "stdout",
     "output_type": "stream",
     "text": [
      "Model: \"model_1\"\n",
      "_________________________________________________________________\n",
      " Layer (type)                Output Shape              Param #   \n",
      "=================================================================\n",
      " input_2 (InputLayer)        [(None, 64, 64, 1)]       0         \n",
      "                                                                 \n",
      " conv2d (Conv2D)             (None, 61, 61, 32)        544       \n",
      "                                                                 \n",
      " max_pooling2d (MaxPooling2D  (None, 20, 20, 32)       0         \n",
      " )                                                               \n",
      "                                                                 \n",
      " flatten (Flatten)           (None, 12800)             0         \n",
      "                                                                 \n",
      " dense_3 (Dense)             (None, 10)                128010    \n",
      "                                                                 \n",
      " dense_4 (Dense)             (None, 1)                 11        \n",
      "                                                                 \n",
      "=================================================================\n",
      "Total params: 128,565\n",
      "Trainable params: 128,565\n",
      "Non-trainable params: 0\n",
      "_________________________________________________________________\n"
     ]
    }
   ],
   "source": [
    "inp = Input(shape=(64, 64, 1))\n",
    "x = Conv2D(32, kernel_size=4, activation='relu')(inp)\n",
    "x = MaxPooling2D(pool_size=(3, 3))(x)\n",
    "x = Flatten()(x)\n",
    "x = Dense(10, activation='relu')(x)\n",
    "output = Dense(1, activation='sigmoid')(x)\n",
    "\n",
    "model = Model(inputs=inp, outputs=output)\n",
    "\n",
    "model.summary()"
   ]
  },
  {
   "cell_type": "code",
   "execution_count": 5,
   "metadata": {},
   "outputs": [
    {
     "name": "stdout",
     "output_type": "stream",
     "text": [
      "You must install pydot (`pip install pydot`) and install graphviz (see instructions at https://graphviz.gitlab.io/download/) for plot_model to work.\n"
     ]
    }
   ],
   "source": [
    "plot_model(model)"
   ]
  },
  {
   "cell_type": "markdown",
   "metadata": {},
   "source": [
    "## 3. Recurrent Neural Network"
   ]
  },
  {
   "cell_type": "code",
   "execution_count": 6,
   "metadata": {},
   "outputs": [
    {
     "name": "stdout",
     "output_type": "stream",
     "text": [
      "Model: \"model_2\"\n",
      "_________________________________________________________________\n",
      " Layer (type)                Output Shape              Param #   \n",
      "=================================================================\n",
      " input_3 (InputLayer)        [(None, 100, 1)]          0         \n",
      "                                                                 \n",
      " lstm (LSTM)                 (None, 10)                480       \n",
      "                                                                 \n",
      " dense_5 (Dense)             (None, 10)                110       \n",
      "                                                                 \n",
      " dense_6 (Dense)             (None, 1)                 11        \n",
      "                                                                 \n",
      "=================================================================\n",
      "Total params: 601\n",
      "Trainable params: 601\n",
      "Non-trainable params: 0\n",
      "_________________________________________________________________\n"
     ]
    }
   ],
   "source": [
    "inp = Input(shape=(100, 1))\n",
    "x = LSTM(10)(inp)\n",
    "x = Dense(10, activation='relu')(x)\n",
    "output = Dense(1, activation='sigmoid')(x)\n",
    "\n",
    "model = Model(inputs=inp, outputs=output)\n",
    "\n",
    "model.summary()"
   ]
  },
  {
   "cell_type": "code",
   "execution_count": 7,
   "metadata": {},
   "outputs": [
    {
     "name": "stdout",
     "output_type": "stream",
     "text": [
      "You must install pydot (`pip install pydot`) and install graphviz (see instructions at https://graphviz.gitlab.io/download/) for plot_model to work.\n"
     ]
    }
   ],
   "source": [
    "plot_model(model)"
   ]
  },
  {
   "cell_type": "markdown",
   "metadata": {},
   "source": [
    "# Shared Layers Models\n",
    "\n",
    "-한 layer 의 output 을 여러 layer 가 share하는 모델\n",
    "\n",
    "## 1. Shared Input Layer\n",
    "\n",
    "- 하나의 image input 을 interpret 하는 kernel size 가 다른 여러개의 convolutional layer 구성"
   ]
  },
  {
   "cell_type": "code",
   "execution_count": 8,
   "metadata": {},
   "outputs": [
    {
     "name": "stdout",
     "output_type": "stream",
     "text": [
      "Model: \"model_3\"\n",
      "__________________________________________________________________________________________________\n",
      " Layer (type)                   Output Shape         Param #     Connected to                     \n",
      "==================================================================================================\n",
      " input_4 (InputLayer)           [(None, 64, 64, 1)]  0           []                               \n",
      "                                                                                                  \n",
      " conv2d_1 (Conv2D)              (None, 61, 61, 32)   544         ['input_4[0][0]']                \n",
      "                                                                                                  \n",
      " conv2d_2 (Conv2D)              (None, 57, 57, 16)   1040        ['input_4[0][0]']                \n",
      "                                                                                                  \n",
      " max_pooling2d_1 (MaxPooling2D)  (None, 30, 30, 32)  0           ['conv2d_1[0][0]']               \n",
      "                                                                                                  \n",
      " max_pooling2d_2 (MaxPooling2D)  (None, 28, 28, 16)  0           ['conv2d_2[0][0]']               \n",
      "                                                                                                  \n",
      " flatten_1 (Flatten)            (None, 28800)        0           ['max_pooling2d_1[0][0]']        \n",
      "                                                                                                  \n",
      " flatten_2 (Flatten)            (None, 12544)        0           ['max_pooling2d_2[0][0]']        \n",
      "                                                                                                  \n",
      " concatenate (Concatenate)      (None, 41344)        0           ['flatten_1[0][0]',              \n",
      "                                                                  'flatten_2[0][0]']              \n",
      "                                                                                                  \n",
      " dense_7 (Dense)                (None, 10)           413450      ['concatenate[0][0]']            \n",
      "                                                                                                  \n",
      " dense_8 (Dense)                (None, 1)            11          ['dense_7[0][0]']                \n",
      "                                                                                                  \n",
      "==================================================================================================\n",
      "Total params: 415,045\n",
      "Trainable params: 415,045\n",
      "Non-trainable params: 0\n",
      "__________________________________________________________________________________________________\n"
     ]
    }
   ],
   "source": [
    "inp = Input(shape=(64, 64, 1))\n",
    "\n",
    "#1st feature extractor\n",
    "x = Conv2D(32, kernel_size=4, activation='relu')(inp)\n",
    "x = MaxPooling2D(pool_size=(2, 2))(x)\n",
    "flat1 = Flatten()(x)\n",
    "\n",
    "#2nd feature extractor\n",
    "x = Conv2D(16, kernel_size=8, activation='relu')(inp)\n",
    "x = MaxPooling2D(pool_size=(2, 2))(x)\n",
    "flat2 = Flatten()(x)\n",
    "\n",
    "# merge feature extractor\n",
    "merge = concatenate([flat1, flat2])\n",
    "#interpretation layer\n",
    "x = Dense(10, activation='relu')(merge)\n",
    "#prediction output\n",
    "output = Dense(1, activation='sigmoid')(x)\n",
    "\n",
    "model = Model(inputs=inp, outputs=output)\n",
    "\n",
    "model.summary()"
   ]
  },
  {
   "cell_type": "code",
   "execution_count": 9,
   "metadata": {},
   "outputs": [
    {
     "name": "stdout",
     "output_type": "stream",
     "text": [
      "You must install pydot (`pip install pydot`) and install graphviz (see instructions at https://graphviz.gitlab.io/download/) for plot_model to work.\n"
     ]
    }
   ],
   "source": [
    "plot_model(model)"
   ]
  },
  {
   "cell_type": "markdown",
   "metadata": {},
   "source": [
    "## 2. Shared Feature Extraction Layer\n",
    "\n",
    "- sequence classificaion 의 feature extractor 인 LSTM 의 output 을 interpret 하는 두개의 병렬 submodels  \n",
    "\n",
    "- timestep 100, 1 feature input"
   ]
  },
  {
   "cell_type": "code",
   "execution_count": 10,
   "metadata": {},
   "outputs": [
    {
     "name": "stdout",
     "output_type": "stream",
     "text": [
      "Model: \"model_4\"\n",
      "__________________________________________________________________________________________________\n",
      " Layer (type)                   Output Shape         Param #     Connected to                     \n",
      "==================================================================================================\n",
      " input_5 (InputLayer)           [(None, 100, 1)]     0           []                               \n",
      "                                                                                                  \n",
      " lstm_1 (LSTM)                  (None, 10)           480         ['input_5[0][0]']                \n",
      "                                                                                                  \n",
      " dense_10 (Dense)               (None, 10)           110         ['lstm_1[0][0]']                 \n",
      "                                                                                                  \n",
      " dense_11 (Dense)               (None, 20)           220         ['dense_10[0][0]']               \n",
      "                                                                                                  \n",
      " dense_9 (Dense)                (None, 10)           110         ['lstm_1[0][0]']                 \n",
      "                                                                                                  \n",
      " dense_12 (Dense)               (None, 10)           210         ['dense_11[0][0]']               \n",
      "                                                                                                  \n",
      " concatenate_1 (Concatenate)    (None, 20)           0           ['dense_9[0][0]',                \n",
      "                                                                  'dense_12[0][0]']               \n",
      "                                                                                                  \n",
      " dense_13 (Dense)               (None, 1)            21          ['concatenate_1[0][0]']          \n",
      "                                                                                                  \n",
      "==================================================================================================\n",
      "Total params: 1,151\n",
      "Trainable params: 1,151\n",
      "Non-trainable params: 0\n",
      "__________________________________________________________________________________________________\n"
     ]
    }
   ],
   "source": [
    "inp = Input(shape=(100, 1))\n",
    "#feature extractor\n",
    "extract1 = LSTM(10)(inp)\n",
    "\n",
    "#1st interpretation\n",
    "interp1 = Dense(10, activation='relu')(extract1)\n",
    "\n",
    "#2nd interpretation\n",
    "x = Dense(10, activation='relu')(extract1)\n",
    "x= Dense(20, activation='relu')(x)\n",
    "interp2 = Dense(10, activation='relu')(x)\n",
    "\n",
    "# merge interpretation\n",
    "merge = concatenate([interp1, interp2])\n",
    "# output\n",
    "output = Dense(1, activation='sigmoid')(merge)\n",
    "\n",
    "model = Model(inputs=inp, outputs=output)\n",
    "\n",
    "model.summary()"
   ]
  },
  {
   "cell_type": "code",
   "execution_count": 11,
   "metadata": {},
   "outputs": [
    {
     "name": "stdout",
     "output_type": "stream",
     "text": [
      "You must install pydot (`pip install pydot`) and install graphviz (see instructions at https://graphviz.gitlab.io/download/) for plot_model to work.\n"
     ]
    }
   ],
   "source": [
    "plot_model(model)"
   ]
  },
  {
   "cell_type": "markdown",
   "metadata": {},
   "source": [
    "# Multiple Input and Output Models\n",
    "\n",
    "## 1. Multiple Input Model\n",
    "\n",
    "- 다른 크기의 두가지 version 의 image 를 input 으로 받아서 image 분류를 하는 model (64x64 흑백, 32x32 컬러) \n",
    "- 각 이미지에 대해 서로 다른 CNN model 이 feature extraction 을 하고, 두 module 의 결과가 concatenate 된다."
   ]
  },
  {
   "cell_type": "code",
   "execution_count": 12,
   "metadata": {},
   "outputs": [
    {
     "name": "stdout",
     "output_type": "stream",
     "text": [
      "Model: \"model_5\"\n",
      "__________________________________________________________________________________________________\n",
      " Layer (type)                   Output Shape         Param #     Connected to                     \n",
      "==================================================================================================\n",
      " input_6 (InputLayer)           [(None, 64, 64, 1)]  0           []                               \n",
      "                                                                                                  \n",
      " input_7 (InputLayer)           [(None, 32, 32, 3)]  0           []                               \n",
      "                                                                                                  \n",
      " conv2d_3 (Conv2D)              (None, 61, 61, 32)   544         ['input_6[0][0]']                \n",
      "                                                                                                  \n",
      " conv2d_4 (Conv2D)              (None, 29, 29, 32)   1568        ['input_7[0][0]']                \n",
      "                                                                                                  \n",
      " max_pooling2d_3 (MaxPooling2D)  (None, 20, 20, 32)  0           ['conv2d_3[0][0]']               \n",
      "                                                                                                  \n",
      " max_pooling2d_4 (MaxPooling2D)  (None, 9, 9, 32)    0           ['conv2d_4[0][0]']               \n",
      "                                                                                                  \n",
      " flatten_3 (Flatten)            (None, 12800)        0           ['max_pooling2d_3[0][0]']        \n",
      "                                                                                                  \n",
      " flatten_4 (Flatten)            (None, 2592)         0           ['max_pooling2d_4[0][0]']        \n",
      "                                                                                                  \n",
      " concatenate_2 (Concatenate)    (None, 15392)        0           ['flatten_3[0][0]',              \n",
      "                                                                  'flatten_4[0][0]']              \n",
      "                                                                                                  \n",
      " dense_14 (Dense)               (None, 10)           153930      ['concatenate_2[0][0]']          \n",
      "                                                                                                  \n",
      " dense_15 (Dense)               (None, 1)            11          ['dense_14[0][0]']               \n",
      "                                                                                                  \n",
      "==================================================================================================\n",
      "Total params: 156,053\n",
      "Trainable params: 156,053\n",
      "Non-trainable params: 0\n",
      "__________________________________________________________________________________________________\n"
     ]
    }
   ],
   "source": [
    "#1st input model\n",
    "inp1 = Input(shape=(64, 64, 1))\n",
    "x = Conv2D(32, kernel_size=4, activation='relu')(inp1)\n",
    "x = MaxPooling2D(pool_size=(3, 3))(x)\n",
    "flat1 = Flatten()(x)\n",
    "\n",
    "#2nd input model\n",
    "inp2 = Input(shape=(32, 32, 3))\n",
    "x = Conv2D(32, kernel_size=4, activation='relu')(inp2)\n",
    "x = MaxPooling2D(pool_size=(3, 3))(x)\n",
    "flat2 = Flatten()(x)\n",
    "\n",
    "#merge input models\n",
    "merge = concatenate([flat1, flat2])\n",
    "#interpretation model\n",
    "x = Dense(10, activation='relu')(merge)\n",
    "output = Dense(1, activation='relu')(x)\n",
    "\n",
    "model = Model([inp1, inp2], output)\n",
    "\n",
    "model.summary()"
   ]
  },
  {
   "cell_type": "code",
   "execution_count": 13,
   "metadata": {},
   "outputs": [
    {
     "name": "stdout",
     "output_type": "stream",
     "text": [
      "You must install pydot (`pip install pydot`) and install graphviz (see instructions at https://graphviz.gitlab.io/download/) for plot_model to work.\n"
     ]
    }
   ],
   "source": [
    "plot_model(model)"
   ]
  },
  {
   "cell_type": "markdown",
   "metadata": {},
   "source": [
    "## 2. Multiple Output Model\n",
    "\n",
    "- 2개의 서로 다른 type 의 prediction 을 출력하는 model  \n",
    "- 100 timestep 1 feature 의 경우 가정  \n",
    "- 이 model 은 sequence 를 분류하면서 동시에 같은 길이의 새로운 sequence 를 출력한다.  \n",
    "- LSTM layer 가 input sequence 를 interpret 하고 각 timestep 별로 hidden state 반환  \n",
    "- 첫번째 output model 은 stacked LSTM 으로 feature 를 interpret 하고 binary prediction 수행  \n",
    "- 두번째 output model 은 같은 output layer 를 이용하여 각 timestep 에 대해 real value prediction"
   ]
  },
  {
   "cell_type": "code",
   "execution_count": 14,
   "metadata": {},
   "outputs": [
    {
     "name": "stdout",
     "output_type": "stream",
     "text": [
      "Model: \"model_6\"\n",
      "__________________________________________________________________________________________________\n",
      " Layer (type)                   Output Shape         Param #     Connected to                     \n",
      "==================================================================================================\n",
      " input_8 (InputLayer)           [(None, 100, 1)]     0           []                               \n",
      "                                                                                                  \n",
      " lstm_2 (LSTM)                  (None, 100, 10)      480         ['input_8[0][0]']                \n",
      "                                                                                                  \n",
      " lstm_3 (LSTM)                  (None, 10)           840         ['lstm_2[0][0]']                 \n",
      "                                                                                                  \n",
      " dense_16 (Dense)               (None, 10)           110         ['lstm_3[0][0]']                 \n",
      "                                                                                                  \n",
      " dense_17 (Dense)               (None, 1)            11          ['dense_16[0][0]']               \n",
      "                                                                                                  \n",
      " time_distributed (TimeDistribu  (None, 100, 1)      11          ['lstm_2[0][0]']                 \n",
      " ted)                                                                                             \n",
      "                                                                                                  \n",
      "==================================================================================================\n",
      "Total params: 1,452\n",
      "Trainable params: 1,452\n",
      "Non-trainable params: 0\n",
      "__________________________________________________________________________________________________\n"
     ]
    }
   ],
   "source": [
    "inp = Input(shape=(100, 1))\n",
    "# feature extraction\n",
    "extract = LSTM(10, return_sequences=True)(inp)\n",
    "# classification output\n",
    "x = LSTM(10)(extract)\n",
    "x = Dense(10, activation='relu')(x)\n",
    "output1 = Dense(1, activation='sigmoid')(x)\n",
    "\n",
    "# sequence output\n",
    "output2 = TimeDistributed(Dense(1, activation='relu'))(extract)\n",
    "\n",
    "model = Model(inputs=inp, outputs=[output1, output2])\n",
    "\n",
    "model.summary()"
   ]
  },
  {
   "cell_type": "code",
   "execution_count": 15,
   "metadata": {},
   "outputs": [
    {
     "name": "stdout",
     "output_type": "stream",
     "text": [
      "You must install pydot (`pip install pydot`) and install graphviz (see instructions at https://graphviz.gitlab.io/download/) for plot_model to work.\n"
     ]
    }
   ],
   "source": [
    "plot_model(model)"
   ]
  },
  {
   "cell_type": "code",
   "execution_count": null,
   "metadata": {},
   "outputs": [],
   "source": []
  }
 ],
 "metadata": {
  "kernelspec": {
   "display_name": "Python 3 (ipykernel)",
   "language": "python",
   "name": "python3"
  },
  "language_info": {
   "codemirror_mode": {
    "name": "ipython",
    "version": 3
   },
   "file_extension": ".py",
   "mimetype": "text/x-python",
   "name": "python",
   "nbconvert_exporter": "python",
   "pygments_lexer": "ipython3",
   "version": "3.9.7"
  }
 },
 "nbformat": 4,
 "nbformat_minor": 2
}
