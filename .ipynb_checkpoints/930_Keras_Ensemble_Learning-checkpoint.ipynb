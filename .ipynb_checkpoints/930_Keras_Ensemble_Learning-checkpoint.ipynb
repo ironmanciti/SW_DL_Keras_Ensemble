{
 "cells": [
  {
   "cell_type": "markdown",
   "metadata": {
    "id": "1GpUUk8SaeHu"
   },
   "source": [
    "# Keras에서 앙상블 학습을 사용한 말라리아 기생충 탐지"
   ]
  },
  {
   "cell_type": "markdown",
   "metadata": {
    "id": "oLvO8KxNa0sy"
   },
   "source": [
    "앙상블 학습은 여러 모델의 예측을 결합하여 예측 정확도를 향상시킵니다.\n",
    "\n",
    "앙상블 학습을 수행하는 방법에는 여러 가지가 있으며 https://en.wikipedia.org/wiki/Ensemble_learning 을 참조하세요.\n",
    "앙상블 학습에는 두 가지 주요 클래스가 있습니다.\n",
    "- Bagging: 독립적인 모델을 학습시킨 다음 그 것들의 예측을 평균합니다.\n",
    "- Boosting: 여러 모델을 순차적으로 학습시킨 다음 예측의 평균을 냅니다.\n",
    "\n",
    "이 노트북에서는 배깅 방식의 단순화된 형태를 사용할 것입니다.\n",
    "\n",
    "- 독립 모델들을 훈련\n",
    "- 각각의 예측을 수집\n",
    "- 투표 절차 적용\n",
    "\n",
    "여러 모델의 예측을 고려할 때 두 가지 투표 절차가 있습니다.\n",
    "- Hard Voting: 예상되는 가장 일반적인 클래스 가져오기\n",
    "- Soft Voting: 예측 확률 합계의 argmax를 취합니다. 가중치를 고려 혹은 고려 않을 수 있습니다.\n",
    "   - 가중치 고려: 각 예측 확률에 미리 설정된 가중치를 곱합니다.\n",
    "   - 가중치 비고려: 예측 확률을 곱하지 않고 바로 더합니다.\n",
    "\n",
    "이 노트북에서는 하드 투표에 집중하겠습니다.\n",
    "\n",
    "데이터세트: https://www.tensorflow.org/datasets/catalog/malaria"
   ]
  },
  {
   "cell_type": "code",
   "execution_count": null,
   "metadata": {
    "id": "DttHtQAYabgB"
   },
   "outputs": [],
   "source": [
    "import statistics\n",
    "import numpy as np\n",
    "\n",
    "import tensorflow as tf\n",
    "from tensorflow.keras.optimizers import  Adam\n",
    "from tensorflow.keras.layers import Conv2D, Dense, MaxPooling2D, Flatten, Dropout\n",
    "from tensorflow.keras.models import Sequential\n",
    "\n",
    "import tensorflow_datasets as tfds\n",
    "\n",
    "from sklearn.metrics import f1_score, confusion_matrix, accuracy_score, precision_score, recall_score\n",
    "import matplotlib.pyplot as plt"
   ]
  },
  {
   "cell_type": "markdown",
   "metadata": {
    "id": "vUqXDuXEfetq"
   },
   "source": [
    "## 데이터를 로드합니다."
   ]
  },
  {
   "cell_type": "code",
   "execution_count": null,
   "metadata": {
    "colab": {
     "base_uri": "https://localhost:8080/"
    },
    "id": "5zEahPV_hKYU",
    "outputId": "cc06fcb4-afd4-497d-c7da-bf5a07b2e812"
   },
   "outputs": [],
   "source": [
    "# Malaria 데이터셋을 70:30 비율로 train과 test로 분리\n",
    "(train_dataset, test_dataset), dataset_info = tfds.load(\n",
    "    'malaria',\n",
    "    split=['train[:70%]', 'train[70%:]'],\n",
    "    as_supervised=True,\n",
    "    with_info=True\n",
    ")\n",
    "\n",
    "print(dataset_info)"
   ]
  },
  {
   "cell_type": "code",
   "execution_count": null,
   "metadata": {
    "colab": {
     "base_uri": "https://localhost:8080/"
    },
    "id": "cgRUmFjk1JW5",
    "outputId": "15d5eedd-e26c-43f7-852e-705c29198356"
   },
   "outputs": [],
   "source": [
    "# 레이블 분포를 계산하는 함수\n",
    "def get_label_distribution(dataset):\n",
    "    distribution = {}\n",
    "    for _, label in dataset:\n",
    "        label = label.numpy()\n",
    "        if label in distribution:\n",
    "            distribution[label] += 1\n",
    "        else:\n",
    "            distribution[label] = 1\n",
    "    return distribution\n",
    "\n",
    "train_distribution = get_label_distribution(train_dataset)\n",
    "test_distribution = get_label_distribution(test_dataset)\n",
    "\n",
    "print(f\"Train dataset label distribution: {train_distribution}\")\n",
    "print(f\"Test dataset label distribution: {test_distribution}\")"
   ]
  },
  {
   "cell_type": "code",
   "execution_count": null,
   "metadata": {
    "colab": {
     "base_uri": "https://localhost:8080/"
    },
    "id": "IjIrjrSRui5G",
    "outputId": "fc358695-6954-487c-c9e0-2ef011368983"
   },
   "outputs": [],
   "source": [
    "# 레이블 이름 출력\n",
    "class_names = dataset_info.features['label'].names\n",
    "print(class_names)"
   ]
  },
  {
   "cell_type": "markdown",
   "metadata": {},
   "source": [
    "Image의 size 확인"
   ]
  },
  {
   "cell_type": "code",
   "execution_count": null,
   "metadata": {
    "colab": {
     "base_uri": "https://localhost:8080/"
    },
    "id": "6XD-_VLepTKj",
    "outputId": "a6a15c7b-30e2-4cc0-eefa-40c9bd5d39df"
   },
   "outputs": [],
   "source": [
    "for image, label in train_dataset.take(10):\n",
    "    print(image.shape)\n",
    "    print(label)"
   ]
  },
  {
   "cell_type": "code",
   "execution_count": null,
   "metadata": {
    "id": "nxKpmQN2uT1A"
   },
   "outputs": [],
   "source": [
    "# image를 동일한 size로 resize\n",
    "def resize_image(image, label):\n",
    "    return tf.image.resize(image, [50, 50]), label\n",
    "\n",
    "# 데이터셋을 셔플링 후 배치 크기로 분할하고 리사이징\n",
    "train_ds = train_dataset.shuffle(buffer_size=10000).map(resize_image).batch(64)\n",
    "test_ds = test_dataset.map(resize_image).batch(64)"
   ]
  },
  {
   "cell_type": "code",
   "execution_count": null,
   "metadata": {
    "colab": {
     "base_uri": "https://localhost:8080/",
     "height": 807
    },
    "id": "HVSAocLcjDIk",
    "outputId": "2de4b039-3014-4727-fe90-a220502ad015"
   },
   "outputs": [],
   "source": [
    "# 첫 9개의 이미지와 레이블을 시각화\n",
    "plt.figure(figsize=(12, 8))\n",
    "\n",
    "for i, (image, label) in enumerate(train_dataset.take(9)):\n",
    "    plt.subplot(3, 3, i + 1)\n",
    "    plt.imshow(image)\n",
    "    plt.title(f\"Label: {label.numpy()}\")\n",
    "    plt.axis(\"off\")\n",
    "\n",
    "plt.tight_layout()\n",
    "plt.show()"
   ]
  },
  {
   "cell_type": "markdown",
   "metadata": {
    "id": "AfrAcwI1na50"
   },
   "source": [
    "## deep CNN 모델 생성\n"
   ]
  },
  {
   "cell_type": "code",
   "execution_count": null,
   "metadata": {
    "colab": {
     "base_uri": "https://localhost:8080/"
    },
    "id": "_CSvvX3Vla8k",
    "outputId": "92766e52-6bc0-4f66-83c4-574cbeaacbc3"
   },
   "outputs": [],
   "source": [
    "def create_model(m):\n",
    "    model = Sequential()\n",
    "    model.add(Conv2D(4*m, (3, 3), activation='relu', input_shape=(50, 50, 3)))\n",
    "    model.add(MaxPooling2D(pool_size=(2, 2)))\n",
    "    model.add(Conv2D(8*m, (3, 3), activation='relu'))\n",
    "    model.add(MaxPooling2D(pool_size=(2, 2)))\n",
    "    model.add(Conv2D(16*m, (3, 3), activation='relu'))\n",
    "    model.add(MaxPooling2D(pool_size=(2, 2)))\n",
    "    model.add(Flatten())\n",
    "    model.add(Dense(16*m, activation='relu'))\n",
    "    model.add(Dropout(0.5))\n",
    "    model.add(Dense(1, activation='sigmoid'))\n",
    "    model.compile(optimizer=Adam(learning_rate=0.001), loss='binary_crossentropy', metrics=['accuracy'])\n",
    "    return model\n",
    "\n",
    "model = create_model(1)\n",
    "model.summary()"
   ]
  },
  {
   "cell_type": "markdown",
   "metadata": {
    "id": "nt51Jyn5rfxX"
   },
   "source": [
    "## Train and test the CNN\n",
    "\n",
    "주요 분류 메트릭을 제공하는 classification_report 함수를 사용하여 예측 정확도를 측정합니다. 또한 공식을 알 수 있도록 이러한 메트릭을 개별적으로 표시합니다.\n",
    "\n",
    "- 정밀도: 음성인 샘플을 양성으로 분류하지 않는 분류기의 능력.\n",
    "- Recall: 모든 양성 샘플을 찾는 분류기의 능력\n",
    "- f1: 정밀도와 재현율의 조화 평균"
   ]
  },
  {
   "cell_type": "code",
   "execution_count": null,
   "metadata": {
    "colab": {
     "base_uri": "https://localhost:8080/"
    },
    "id": "qtznFL-AszYa",
    "outputId": "28791cd3-06a6-4299-f108-0e82422ade49"
   },
   "outputs": [],
   "source": [
    "history = model.fit(train_ds, epochs=10, verbose=1, validation_data=test_ds)"
   ]
  },
  {
   "cell_type": "code",
   "execution_count": null,
   "metadata": {
    "colab": {
     "base_uri": "https://localhost:8080/",
     "height": 387
    },
    "id": "_5yJ4pfPurh_",
    "outputId": "beef8d7b-67c8-40b0-ff16-8e82741e8812"
   },
   "outputs": [],
   "source": [
    "plt.figure(figsize=(12, 4))\n",
    "plt.subplot(1, 2, 1)\n",
    "plt.plot(history.history['loss'], label='Train Loss')\n",
    "plt.plot(history.history['val_loss'], label='Validation Loss')\n",
    "plt.legend()\n",
    "plt.subplot(1, 2, 2)\n",
    "plt.plot(history.history['accuracy'], label='Train Accuracy')\n",
    "plt.plot(history.history['val_accuracy'], label='Validation Accuracy')\n",
    "plt.legend()"
   ]
  },
  {
   "cell_type": "code",
   "execution_count": null,
   "metadata": {
    "id": "hqgSOJd9wrbG"
   },
   "outputs": [],
   "source": [
    "# 이미지와 레이블을 NumPy 배열로 추출\n",
    "images_list = [image.numpy() for image, _ in test_ds.unbatch()]\n",
    "labels_list = [label.numpy() for _, label in test_ds.unbatch()]\n",
    "\n",
    "test_images_array = np.array(images_list)\n",
    "test_labels_array = np.array(labels_list)"
   ]
  },
  {
   "cell_type": "code",
   "execution_count": null,
   "metadata": {
    "colab": {
     "base_uri": "https://localhost:8080/"
    },
    "id": "E9Xy9C7r5KJ4",
    "outputId": "93bb7f7a-469d-474f-c297-52f6ecfd26ba"
   },
   "outputs": [],
   "source": [
    "test_images_array.shape, test_labels_array.shape"
   ]
  },
  {
   "cell_type": "code",
   "execution_count": null,
   "metadata": {
    "id": "SbbAvI3V4d64"
   },
   "outputs": [],
   "source": [
    "y_pred = model.predict(test_images_array, verbose=0) > 0.5"
   ]
  },
  {
   "cell_type": "code",
   "execution_count": null,
   "metadata": {
    "colab": {
     "base_uri": "https://localhost:8080/"
    },
    "id": "geMxDNRC4kev",
    "outputId": "906d71df-0eb4-449e-90fc-26ce22a1a97f"
   },
   "outputs": [],
   "source": [
    "# accuracy = (true positives + true negatives) / (positives + negatives)\n",
    "print('accuracy = {:.2f}'.format(accuracy_score(test_labels_array, y_pred)))\n",
    "# precision = true positives / (true positives + false positives)\n",
    "print('precision = {:.2f}'.format(precision_score(test_labels_array, y_pred)))\n",
    "# recall = true positives / (true positives + false negatives)\n",
    "print('recall = {:.2f}'.format(recall_score(test_labels_array, y_pred)))\n",
    "# f1 = 2 * (precision * recall) / (precision + recall)\n",
    "print('f1 score = {:.2f}'.format(f1_score(test_labels_array, y_pred)))"
   ]
  },
  {
   "cell_type": "markdown",
   "metadata": {
    "id": "bEcAgj-r7Lql"
   },
   "source": [
    "## Create the CNN models ensemble\n",
    "하나의 CNN 모델로 좋은 정확도를 달성할 수 있다는 것을 알았으므로 CNN 모델의 앙상블을 시도해 봅니다."
   ]
  },
  {
   "cell_type": "code",
   "execution_count": null,
   "metadata": {
    "colab": {
     "base_uri": "https://localhost:8080/"
    },
    "id": "E86aHgba7FGQ",
    "outputId": "03430dcf-721c-421f-8c70-d22014050fe0"
   },
   "outputs": [],
   "source": [
    "models = {}\n",
    "for i in range(1, 4):\n",
    "    newmodel = create_model(i)\n",
    "    models[i] = newmodel\n",
    "\n",
    "models"
   ]
  },
  {
   "cell_type": "markdown",
   "metadata": {
    "id": "7jHWOQnY8zOj"
   },
   "source": [
    "## 앙상블할 모델들을 훈련하 예측을 수행합니다.\n",
    "동일한 데이터 세트를 사용하여 각 모델을 개별적으로 훈련합니다.\n",
    "\n",
    "완료되면 예측을 생성하고 배열 `predictions_hard`에 추가합니다."
   ]
  },
  {
   "cell_type": "code",
   "execution_count": null,
   "metadata": {
    "colab": {
     "base_uri": "https://localhost:8080/"
    },
    "id": "8uo7pxTP8Zui",
    "outputId": "bc33958b-efc8-4f71-cd55-2214f72c9351"
   },
   "outputs": [],
   "source": [
    "for k in models:\n",
    "    models[k].fit(train_ds, epochs=10, verbose=1, validation_data=test_ds)"
   ]
  },
  {
   "cell_type": "code",
   "execution_count": null,
   "metadata": {
    "colab": {
     "base_uri": "https://localhost:8080/"
    },
    "id": "6qHZ-bbW-9FM",
    "outputId": "9459d0b1-c179-48f5-e5de-d090229776b3"
   },
   "outputs": [],
   "source": [
    "predictions_hard = []\n",
    "for k in models:\n",
    "    y_pred = models[k].predict(test_images_array, verbose=0) > 0.5\n",
    "    print('accuracy = {:.2f}'.format(accuracy_score(test_labels_array, y_pred)))\n",
    "    predictions_hard.append(y_pred)"
   ]
  },
  {
   "cell_type": "markdown",
   "metadata": {
    "id": "ZUhr8vup_G1N"
   },
   "source": [
    "## 앙상블에 hard voting 적용\n",
    "Hard Voting은 다수결에 따라 클래스를 결정하는 것입니다. 다른 것보다 더 자주 예측된 클래스를 얻기 위해 `mode()` 통계 함수를 사용할 것입니다.  \n",
    "\n",
    "`mode()` 함수는 최빈값을 의미합니다."
   ]
  },
  {
   "cell_type": "code",
   "execution_count": null,
   "metadata": {
    "colab": {
     "base_uri": "https://localhost:8080/"
    },
    "id": "wqVJswseByhY",
    "outputId": "c60dee8b-d7df-476e-915d-aaf40cd23c75"
   },
   "outputs": [],
   "source": [
    "predictions_hard[0].shape"
   ]
  },
  {
   "cell_type": "code",
   "execution_count": null,
   "metadata": {
    "id": "78EHJsdw--UD"
   },
   "outputs": [],
   "source": [
    "voting_hard = []\n",
    "for i in range(len(test_labels_array)):\n",
    "    # 3개 모델의 i번째 예측 결과 중 최빈값을 찾아 voting_hard에 추가\n",
    "    voting_hard += [statistics.mode([predictions_hard[0][i][0], predictions_hard[1][i][0], predictions_hard[2][i][0]])]"
   ]
  },
  {
   "cell_type": "code",
   "execution_count": null,
   "metadata": {
    "colab": {
     "base_uri": "https://localhost:8080/"
    },
    "id": "Uv8ljivVAgCL",
    "outputId": "e4e90633-68be-482a-f8b7-a89986c33ea8"
   },
   "outputs": [],
   "source": [
    "from sklearn.metrics import classification_report\n",
    "print(classification_report(test_labels_array, voting_hard))"
   ]
  },
  {
   "cell_type": "code",
   "execution_count": null,
   "metadata": {
    "id": "Wc-iI2fJAmYw"
   },
   "outputs": [],
   "source": []
  }
 ],
 "metadata": {
  "accelerator": "GPU",
  "colab": {
   "gpuType": "T4",
   "provenance": []
  },
  "kernelspec": {
   "display_name": "Python 3 (ipykernel)",
   "language": "python",
   "name": "python3"
  },
  "language_info": {
   "codemirror_mode": {
    "name": "ipython",
    "version": 3
   },
   "file_extension": ".py",
   "mimetype": "text/x-python",
   "name": "python",
   "nbconvert_exporter": "python",
   "pygments_lexer": "ipython3",
   "version": "3.9.16"
  }
 },
 "nbformat": 4,
 "nbformat_minor": 1
}
